{
 "cells": [
  {
   "cell_type": "code",
   "execution_count": null,
   "metadata": {},
   "outputs": [],
   "source": [
    "# 准备 Google Colab 环境: 在Runtime中选择 GPU\n",
    "# 拉取数据集\n",
    "pwd = !pwd\n",
    "if 'dive_into_deep_learning' not in pwd[0]:\n",
    "    ! git clone https://github.com/chibinjiang/dive_into_deep_learning.git\n",
    "    # 进入到和开发环境相似的工作目录\n",
    "    %cd dive_into_deep_learning/\n",
    "# 安装依赖\n",
    "! pip install mxnet-cu101mkl"
   ]
  }
 ],
 "metadata": {
  "kernelspec": {
   "display_name": "Python 3",
   "language": "python",
   "name": "python3"
  },
  "language_info": {
   "codemirror_mode": {
    "name": "ipython",
    "version": 3
   },
   "file_extension": ".py",
   "mimetype": "text/x-python",
   "name": "python",
   "nbconvert_exporter": "python",
   "pygments_lexer": "ipython3",
   "version": "3.7.4"
  }
 },
 "nbformat": 4,
 "nbformat_minor": 2
}
