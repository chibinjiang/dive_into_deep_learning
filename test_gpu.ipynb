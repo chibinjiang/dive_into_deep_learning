{
 "cells": [
  {
   "cell_type": "code",
   "execution_count": 1,
   "metadata": {},
   "outputs": [],
   "source": [
    "import time\n",
    "import mxnet as mx\n",
    "from mxnet import nd\n",
    "from mxnet.gluon import nn"
   ]
  },
  {
   "cell_type": "code",
   "execution_count": 4,
   "metadata": {},
   "outputs": [
    {
     "data": {
      "text/plain": [
       "gpu(0)"
      ]
     },
     "execution_count": 4,
     "metadata": {},
     "output_type": "execute_result"
    }
   ],
   "source": [
    "ctx = mx.gpu() if mx.test_utils.list_gpus() else mx.cpu()\n",
    "ctx"
   ]
  },
  {
   "cell_type": "code",
   "execution_count": 2,
   "metadata": {},
   "outputs": [
    {
     "name": "stdout",
     "output_type": "stream",
     "text": [
      "Sun Jan 12 21:33:29 2020       \r\n",
      "+-----------------------------------------------------------------------------+\r\n",
      "| NVIDIA-SMI 390.116                Driver Version: 390.116                   |\r\n",
      "|-------------------------------+----------------------+----------------------+\r\n",
      "| GPU  Name        Persistence-M| Bus-Id        Disp.A | Volatile Uncorr. ECC |\r\n",
      "| Fan  Temp  Perf  Pwr:Usage/Cap|         Memory-Usage | GPU-Util  Compute M. |\r\n",
      "|===============================+======================+======================|\r\n",
      "|   0  GeForce GT 745M     Off  | 00000000:01:00.0 N/A |                  N/A |\r\n",
      "| N/A   58C    P8    N/A /  N/A |    114MiB /  2002MiB |     N/A      Default |\r\n",
      "+-------------------------------+----------------------+----------------------+\r\n",
      "                                                                               \r\n",
      "+-----------------------------------------------------------------------------+\r\n",
      "| Processes:                                                       GPU Memory |\r\n",
      "|  GPU       PID   Type   Process name                             Usage      |\r\n",
      "|=============================================================================|\r\n",
      "|    0                    Not Supported                                       |\r\n",
      "+-----------------------------------------------------------------------------+\r\n"
     ]
    }
   ],
   "source": [
    "!nvidia-smi"
   ]
  },
  {
   "cell_type": "code",
   "execution_count": 3,
   "metadata": {},
   "outputs": [
    {
     "data": {
      "text/plain": [
       "(cpu(0), gpu(0))"
      ]
     },
     "execution_count": 3,
     "metadata": {},
     "output_type": "execute_result"
    }
   ],
   "source": [
    "mx.cpu(), mx.gpu()"
   ]
  },
  {
   "cell_type": "code",
   "execution_count": 4,
   "metadata": {},
   "outputs": [],
   "source": [
    "x = nd.array([1, 2, 3])"
   ]
  },
  {
   "cell_type": "code",
   "execution_count": 5,
   "metadata": {},
   "outputs": [
    {
     "data": {
      "text/plain": [
       "cpu(0)"
      ]
     },
     "execution_count": 5,
     "metadata": {},
     "output_type": "execute_result"
    }
   ],
   "source": [
    "x.context"
   ]
  },
  {
   "cell_type": "code",
   "execution_count": 6,
   "metadata": {},
   "outputs": [],
   "source": [
    "# GPU上的存储\n",
    "x_gpu = nd.array([1,2,3], ctx=mx.gpu(0))"
   ]
  },
  {
   "cell_type": "code",
   "execution_count": 7,
   "metadata": {},
   "outputs": [],
   "source": [
    "x_uni = nd.random.uniform(shape=(2, 3), ctx=mx.gpu(0))"
   ]
  },
  {
   "cell_type": "code",
   "execution_count": 8,
   "metadata": {},
   "outputs": [
    {
     "data": {
      "text/plain": [
       "\n",
       "[[0.6686509  0.17409194 0.3850025 ]\n",
       " [0.24678314 0.35134333 0.8404298 ]]\n",
       "<NDArray 2x3 @gpu(0)>"
      ]
     },
     "execution_count": 8,
     "metadata": {},
     "output_type": "execute_result"
    }
   ],
   "source": [
    "x_uni"
   ]
  },
  {
   "cell_type": "code",
   "execution_count": 9,
   "metadata": {},
   "outputs": [],
   "source": [
    "x_gpu_copy = x.copyto(mx.gpu())"
   ]
  },
  {
   "cell_type": "code",
   "execution_count": 10,
   "metadata": {},
   "outputs": [
    {
     "data": {
      "text/plain": [
       "\n",
       "[1. 2. 3.]\n",
       "<NDArray 3 @gpu(0)>"
      ]
     },
     "execution_count": 10,
     "metadata": {},
     "output_type": "execute_result"
    }
   ],
   "source": [
    "x_gpu_copy"
   ]
  },
  {
   "cell_type": "code",
   "execution_count": 11,
   "metadata": {},
   "outputs": [
    {
     "data": {
      "text/plain": [
       "\n",
       "[[14.420502 17.588388 32.57727 ]\n",
       " [ 9.457265 20.99933  51.36937 ]]\n",
       "<NDArray 2x3 @gpu(0)>"
      ]
     },
     "execution_count": 11,
     "metadata": {},
     "output_type": "execute_result"
    }
   ],
   "source": [
    "(x_uni + 2).exp() * x_gpu_copy"
   ]
  },
  {
   "cell_type": "code",
   "execution_count": 12,
   "metadata": {},
   "outputs": [],
   "source": [
    "net = nn.Sequential()\n",
    "net.add(nn.Dense(1))\n",
    "net.initialize(ctx=mx.gpu())"
   ]
  },
  {
   "cell_type": "code",
   "execution_count": 13,
   "metadata": {},
   "outputs": [
    {
     "data": {
      "text/plain": [
       "\n",
       "[[0.0068339 ]\n",
       " [0.01366779]\n",
       " [0.02050169]]\n",
       "<NDArray 3x1 @gpu(0)>"
      ]
     },
     "execution_count": 13,
     "metadata": {},
     "output_type": "execute_result"
    }
   ],
   "source": [
    "net(x_gpu_copy)"
   ]
  },
  {
   "cell_type": "code",
   "execution_count": 14,
   "metadata": {},
   "outputs": [
    {
     "data": {
      "text/plain": [
       "\n",
       "[[0.0068339]]\n",
       "<NDArray 1x1 @gpu(0)>"
      ]
     },
     "execution_count": 14,
     "metadata": {},
     "output_type": "execute_result"
    }
   ],
   "source": [
    "net[0].weight.data()"
   ]
  },
  {
   "cell_type": "code",
   "execution_count": 27,
   "metadata": {},
   "outputs": [
    {
     "name": "stdout",
     "output_type": "stream",
     "text": [
      "Compute m= 1000000000, CPU Avg Time:  5.078315734863281e-06, GPU Avg Time:  3.1948089599609376e-06\n",
      "Compute m= 2000000000, CPU Avg Time:  2.9087066650390623e-06, GPU Avg Time:  3.0755996704101563e-06\n",
      "Compute m= 3000000000, CPU Avg Time:  2.408027648925781e-06, GPU Avg Time:  2.360343933105469e-06\n",
      "Compute m= 4000000000, CPU Avg Time:  2.1219253540039063e-06, GPU Avg Time:  2.2411346435546876e-06\n",
      "Compute m= 5000000000, CPU Avg Time:  2.1696090698242187e-06, GPU Avg Time:  2.2172927856445314e-06\n",
      "Compute m= 6000000000, CPU Avg Time:  2.0742416381835936e-06, GPU Avg Time:  2.288818359375e-06\n",
      "Compute m= 7000000000, CPU Avg Time:  2.0742416381835936e-06, GPU Avg Time:  2.2649765014648438e-06\n",
      "Compute m= 8000000000, CPU Avg Time:  2.0742416381835936e-06, GPU Avg Time:  2.2172927856445314e-06\n",
      "Compute m= 9000000000, CPU Avg Time:  2.0503997802734374e-06, GPU Avg Time:  2.193450927734375e-06\n"
     ]
    }
   ],
   "source": [
    "# 试一下大矩阵的乘法\n",
    "n = 784\n",
    "cpu_hist = list()\n",
    "gpu_hist = list()\n",
    "for m in range(10000000, 100000000, 10000000):\n",
    "    print(\"Compute m=\", m, end=', ')\n",
    "    X_cpu = nd.random.uniform(shape=(m, n))\n",
    "    W_cpu = nd.random.uniform(shape=(n, m))\n",
    "    X_gpu = nd.random.uniform(shape=(m, n), ctx=mx.gpu(0))\n",
    "    W_gpu = nd.random.uniform(shape=(n, m), ctx=mx.gpu(0))\n",
    "    # CPU\n",
    "    for _ in range(10):\n",
    "        cpu_time = time.time()\n",
    "        res = nd.dot(X_cpu, W_cpu)\n",
    "    avg_time = (time.time() - cpu_time) / 10\n",
    "    cpu_hist.append(avg_time)\n",
    "    print(\"CPU Avg Time: \", avg_time, end=', ')\n",
    "    # GPU\n",
    "    gpu_time = time.time()\n",
    "    for _ in range(10):\n",
    "        gpu_time = time.time()\n",
    "        nd.dot(X_gpu, W_gpu)\n",
    "    avg_time = (time.time() - gpu_time) / 10\n",
    "    gpu_hist.append(gpu_time)\n",
    "    print(\"GPU Avg Time: \", avg_time)"
   ]
  },
  {
   "cell_type": "code",
   "execution_count": null,
   "metadata": {},
   "outputs": [],
   "source": []
  }
 ],
 "metadata": {
  "kernelspec": {
   "display_name": "Python 3",
   "language": "python",
   "name": "python3"
  },
  "language_info": {
   "codemirror_mode": {
    "name": "ipython",
    "version": 3
   },
   "file_extension": ".py",
   "mimetype": "text/x-python",
   "name": "python",
   "nbconvert_exporter": "python",
   "pygments_lexer": "ipython3",
   "version": "3.7.4"
  }
 },
 "nbformat": 4,
 "nbformat_minor": 2
}
