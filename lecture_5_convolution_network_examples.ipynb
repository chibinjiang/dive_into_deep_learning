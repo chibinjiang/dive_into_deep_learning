{
 "cells": [
  {
   "cell_type": "markdown",
   "metadata": {},
   "source": [
    "## 那些年, 大牛的卷积网络\n",
    "1. 卷积网络:\n",
    "    - 尝试解决全连接层的局限:\n",
    "        - 因为全连接层按行展开, 难于识别相距较远的 模式 -> 卷积层保留输入形状, 使得图像的像素在高和宽两个方向上的相关性可能被识别;\n",
    "        - 全连接层模型容易过大 -> 卷积层通过滑动窗口, 和不同位置的输入做卷积计算, 避免参数尺寸过大\n",
    "\n",
    "### Lenet\n",
    "0. 1998年\n",
    "1. 交叉使用两个模块: 卷积层 + 全连接层\n",
    "2. 卷积层基本单位 = 卷积层 + 最大池化层, 卷积层识别空间模式, 池化层降低卷积层对位置的敏感性\n",
    "3. 结构:\n",
    "    - 卷积层块:\n",
    "        - 卷积层: 5x5 -> 输出 -> sigmoid\n",
    "        - 1st 卷积层 通道为 5, 2nd 为16 <- 增加通道使两个卷积层的参数尺寸类似\n",
    "        - 两个 2x2 的max-pooling窗口, 步幅是2\n",
    "    - 输出: (批量大小, 通道数, 高, 宽)\n",
    "    - 进入全连接层: flatten 每个样本, 输入形状变成二维 -> 样本数 * flatten vectors\n",
    "    - 三个全连接层: 120, 84, 10(输出类别个数, 因为是MNIST)\n",
    "4. 缺点:\n",
    "    - 多通道, 多层, 大量参数, 如今有GPU就不是问题\n",
    "    \n",
    "### AlexNet\n",
    "1. end-to-end: 神经网络可以直接基于图像的原始像素进行分类\n",
    "2. 那些年图像分类的特征工程, 流程:\n",
    "    - 获取图像数据集\n",
    "    - 使用特征提取函数生成图像的特征\n",
    "    - 使用机器学习模型对图像的特征分类\n",
    "3. 学习特征表示:\n",
    "    - 多层神经网络可能可以学习到数据的 多级表征, 并逐级表示逐渐抽象的概念或模式\n",
    "4. AlexNet 首次证明了学习到的特征可以超越手工设计的特征\n",
    "5. 与leNet的不用:\n",
    "    - 8层变换:\n",
    "        - 5层卷积\n",
    "        - 2层全连接隐藏层\n",
    "        - 1层全连接输出层\n",
    "    - 将sigmoid激活函数改成relu激活函数, 后者计算更简单\n",
    "        - sigmoid 的缺点: 当输出极限接近0或者1时, 梯度几乎为0, 导致反向传播无法更新部分模型参数\n",
    "    - 通过丢弃法控制全连接层的模型复杂福\n",
    "    - 引入大量图像增广: 翻转/裁剪/颜色变化, 进一步扩大数据集来缓解过拟合\n",
    "6. 结构:\n",
    "    - 第一层: 11x11的卷积窗口 -> 需要大窗口捕获物体\n",
    "    - 第二层: 5x5的卷积窗口\n",
    "    - 第三及之后层: 3x3的卷积窗口\n",
    "    - 第1/2/5层都使用了3x3, 步幅为2的最大池化层\n",
    "    - 卷积层之后是两个 输出个数为4096的全连接层\n",
    "9. 结构图: ![](./images/alexnet_structure.png)\n",
    "\n",
    "### VGG\n",
    "1. 实验室: Visual Geometry Group\n",
    "2. 提出了通过重复使用简单的基础块来构建深度模型的思路\n",
    "3. 结构:\n",
    "    - 连续使用数个相同的填充为1、窗口形状为 3×3 的卷积层后接一个步幅为2、窗口形状为 2×2 的最大池化层\n",
    "    - 卷积层保持输入的高和宽不变\n",
    "    - 池化层则对宽高减半\n",
    "    - 卷积模块后接全连接层\n",
    "\n",
    "### NiN, 网中网\n",
    "1. LeNet/AlexNet/VGG 的共同之处, 是 先使用卷积层构成的模块充分抽取空间特征, 再以 全连接层 构成的模块来输出分类 结果\n",
    "2. AlexNet/VGG的改进之处在于, 将两个模块加厚(增加通道数), 加深\n",
    "3. NiN的思路: 串联多个 卷积层+全连接层 的小网络来构建 一个深层网络\n",
    "4. NiN使用 1x1卷积层来代替全连接层, 从而将空间信息传递到后面的层, 其中, 1x1卷积层空间维度(宽+高)上的每个元素相当于样本, 通道相当于特征\n",
    "5. NiN块: 1个卷积层 + 2个 1x1卷积层\n",
    "6. NiN结构:\n",
    "    - 卷积层窗口形状 分别是 11, 5, 3\n",
    "    - 通道数 和 alexnet 相同\n",
    "    - 每个 NiN块 后接一个 步幅为2, 窗口形状为3x3的最大池化层\n",
    "7. 和 AlexNet相比, 去掉了 最后三个全连接层, 最后的是 输出通道数 等于 标签类别数的 NiN 块 + 全局平均池化层\n",
    "8. 优点: 显著建雄模型参数尺寸, 缓解过拟合\n",
    "9. 缺点: 可能会导致获取有效模型的训练时间增加\n",
    "10. <b>这是一个  参数数量 和 训练时间 的博弈</b>\n",
    "11. 结构图: ![](./images/nin.png)\n",
    "\n",
    "### GoogLeNet(含并行连接)\n",
    "1. GoogLeNet吸收了NiN中网络串联网络的思想\n",
    "2. Inception 块: 4条并行线路\n",
    "    - 1x1 卷积层\n",
    "    - 1x1 卷积层 + 3x3 卷积层(3和5抽取不同空间尺寸的信息)\n",
    "    - 1x1 卷积层 + 5x5 卷积层\n",
    "    - 3x3 最大池化层 + 1x1 卷积层(减少通道数, 降低复杂度)\n",
    "    - 输出: 通道合并层\n",
    "3. Inception 块结构: ![](./images/inception.png)\n",
    "4. GoogLeNet 结构:\n",
    "    - 主体卷积部分:\n",
    "        - 模块1: 卷积层(64通道, 7x7) + 最大池化层(步幅=2, 3x3)\n",
    "        - 模块2: 卷积层(64通道, 1x1) + 卷积层(192通道, 3x3) + 最大池化层(步幅=2, 充填=1, 3x3) , 对应 Inception的第二条线路\n",
    "        - 模块3: 串联两个 Inception块 + 最大池化层(步幅=2, 填充=1, 3x3):\n",
    "            - 第一个Inception, 输出通道数为256: \n",
    "                - 64\n",
    "                - 96, 128\n",
    "                - 16, 32\n",
    "                - 32\n",
    "            - 第二个Inception, 输出通道数为480:\n",
    "                - 128\n",
    "                - 128, 192\n",
    "                - 32, 96\n",
    "                - 64\n",
    "        - 模块4: 5个Inception块 + 最大池化层(步幅=2, 填充=1, 3x3)\n",
    "            - 第1个Inception, 输出通道数为512\n",
    "                - 192\n",
    "                - 96, 208\n",
    "                - 16, 48\n",
    "                - 64\n",
    "            - 第2个Inception, 输出通道数为512\n",
    "                - 160\n",
    "                - 112, 224\n",
    "                - 24, 64\n",
    "                - 64\n",
    "            - 第3个Inception, 输出通道数为512\n",
    "                - 128\n",
    "                - 128, 256\n",
    "                - 24, 64\n",
    "                - 64\n",
    "            - 第4个Inception, 输出通道数为528\n",
    "                - 112\n",
    "                - 144, 288\n",
    "                - 32, 64\n",
    "                - 64\n",
    "            - 第5个Inception, 输出通道数为832\n",
    "                - 256\n",
    "                - 160, 320\n",
    "                - 32, 128\n",
    "                - 128\n",
    "5. Inception块的通道数分配之比 需要通过大量实验获取\n",
    "\n",
    "        \n",
    "### ResNet, 残差网络\n",
    "1. 加入BN依旧未完全解决: more 层, 训练稳定的深度模型越困难, 训练误差反而可能上升\n",
    "2. 加入残差网络: 输入可以跨层向前传播\n",
    "3. 之前的映射: f(x); 新的残差映射: f(x) - x\n",
    "4. 残差块 Residual Block, 结构:\n",
    "    - 两个相同输出通道数的 3x3 卷积层 (输出形状同输入)\n",
    "    - 每个卷积层后 跟着 BN\n",
    "    - 加上 输入\n",
    "    - 加上ReLU\n",
    "    - 如果要改变 输出通道数, 则需要使用1x1 卷积层resize输入再做相加运算\n",
    "5. ResNet模型\n",
    "    - 卷积层(64通道, 步幅为2, 7x7) + BN + 最大池化层(步幅为2, 3x3)\n",
    "    - 4个残差块\n",
    "6. 相比 GoogLeNet, 结构更简单\n",
    "### DenseNet\n",
    "1. 从ResNet引申出来, 但是 ResNet加上输入, 而DenseNet连结输入\n",
    "2. DenseNet结构:\n",
    "    - 稠密块: 定义输出和输入如何连结(在通道维)\n",
    "        - 卷积层 + BN + ReLU\n",
    "    - 过渡层: 控制通道数(控制模型复杂度), 避免过大\n",
    "        - 1x1卷积层, 减少 通道数\n",
    "        - 平均池化层(步幅=2), 减半宽和高\n",
    "3. 增长率(Grow Rate): 输出通道数 相对 输入通道数的增长\n",
    "4. 卷积块的通道数 控制 增长率\n",
    "5. DenseNet模型结构:\n",
    "    - 单卷积层\n",
    "    - 最大池化层\n",
    "    - 4个稠密块\n",
    "    - 全局平均池化层\n",
    "    - 全连接层\n",
    "    \n",
    "### 批量归一化\n",
    "1. 如果没有BN: 每层参数的更新难以导致靠近输出层的输出有剧烈变化, 这种数值的不稳定性会导致难以训练处有效的深度模型\n",
    "2. 如果加了BN: \n",
    "    - BN利用小批量上的均值和标准差, 不断调整神经网络的中间输出, 使用整个神经网络在各层的中间输出的数值更稳定\n",
    "    - 更快地收敛\n",
    "3. 对全连接层进行BN\n",
    "    - 在激活函数之前\n",
    "    - 对 Wx+b 求均值u和方差σ: \n",
    "    - 归一化时, 分母添加小常数, 避免 分母为0: y = (y - u) / sqrt(σ ^ 2, ϵ)\n",
    "    - 拉伸: 按元素乘一个参数, 按元素加一个参数, 这两个参数可以训练, 可以使得BN效果消失\n",
    "4. 对卷积层进行BN\n",
    "    - 独立对每个通道做BN: 每个通道有独立的拉伸和偏移参数\n",
    "5. 预测时的BN(用已有模型预测测试集)\n",
    "\n",
    "### 结语\n",
    "#### 吃透这几个Net\n",
    "\n",
    "\n",
    "### 参考\n",
    "- [Gradient-based learning applied to document recognition](http://vision.stanford.edu/cs598_spring07/papers/Lecun98.pdf)\n",
    "- [Imagenet classification with deep convolutional neural networks.](http://www.image-net.org/challenges/LSVRC/2012/supervision.pdf)\n",
    "- [Very deep convolutional networks for large-scale image recognition.](https://arxiv.org/abs/1409.1556)\n",
    "- 新加坡国立大学, [Network in Network](https://arxiv.org/pdf/1312.4400.pdf)\n",
    "- [Going deeper with convolutions](https://static.googleusercontent.com/media/research.google.com/en//pubs/archive/43022.pdf)\n",
    "- 批量归一化, [Batch normalization: Accelerating deep network training by reducing internal covariate shift](https://arxiv.org/pdf/1502.03167.pdf)\n",
    "- [Identity mappings in deep residual networks](https://arxiv.org/pdf/1603.05027.pdf)\n",
    "- [Deep residual learning for image recognition](https://www.cv-foundation.org/openaccess/content_cvpr_2016/papers/He_Deep_Residual_Learning_CVPR_2016_paper.pdf)\n"
   ]
  },
  {
   "cell_type": "code",
   "execution_count": 2,
   "metadata": {},
   "outputs": [],
   "source": [
    "import sys, time\n",
    "import mxnet as mx\n",
    "from IPython import display\n",
    "from matplotlib import pyplot as plt\n",
    "from mxnet import autograd, gluon, init, nd\n",
    "from mxnet.gluon import loss as gloss, nn, data as gdata"
   ]
  },
  {
   "cell_type": "code",
   "execution_count": 3,
   "metadata": {},
   "outputs": [],
   "source": [
    "lenet = nn.Sequential()\n",
    "lenet.add(nn.Conv2D(channels=6, kernel_size=5, activation='sigmoid'),\n",
    "        nn.MaxPool2D(pool_size=2, strides=2),\n",
    "        nn.Conv2D(channels=16, kernel_size=5, activation='sigmoid'),\n",
    "        nn.MaxPool2D(pool_size=2, strides=2),\n",
    "        # Dense会默认将(批量大小, 通道, 高, 宽)形状的输入转换成\n",
    "        # (批量大小, 通道 * 高 * 宽)形状的输入\n",
    "        nn.Dense(120, activation='sigmoid'),\n",
    "        nn.Dense(84, activation='sigmoid'),\n",
    "        nn.Dense(10))"
   ]
  },
  {
   "cell_type": "code",
   "execution_count": 4,
   "metadata": {},
   "outputs": [
    {
     "name": "stdout",
     "output_type": "stream",
     "text": [
      "conv0 output shape:\t (1, 6, 24, 24)\n",
      "pool0 output shape:\t (1, 6, 12, 12)\n",
      "conv1 output shape:\t (1, 16, 8, 8)\n",
      "pool1 output shape:\t (1, 16, 4, 4)\n",
      "dense0 output shape:\t (1, 120)\n",
      "dense1 output shape:\t (1, 84)\n",
      "dense2 output shape:\t (1, 10)\n"
     ]
    }
   ],
   "source": [
    "X = nd.random.uniform(shape=(1, 1, 28, 28))\n",
    "lenet.initialize()\n",
    "for layer in lenet:\n",
    "    X = layer(X)\n",
    "    print(layer.name, 'output shape:\\t', X.shape)"
   ]
  },
  {
   "cell_type": "code",
   "execution_count": 5,
   "metadata": {},
   "outputs": [],
   "source": [
    "def get_ctx():\n",
    "    \"\"\"\n",
    "    GPU first\n",
    "    \"\"\"\n",
    "    try:\n",
    "        ctx = mx.gpu()\n",
    "        _ = nd.zeros((1,), ctx=ctx)\n",
    "    except mx.base.MXNetError:\n",
    "        ctx = mx.cpu()\n",
    "    return ctx"
   ]
  },
  {
   "cell_type": "code",
   "execution_count": 6,
   "metadata": {},
   "outputs": [],
   "source": [
    "def evaluate_accuracy(data_iter, net, ctx):\n",
    "    acc_sum, n = nd.array([0], ctx=ctx), 0\n",
    "    for X, y in data_iter:\n",
    "        # 如果ctx代表GPU及相应的显存，将数据复制到显存上\n",
    "        X, y = X.as_in_context(ctx), y.as_in_context(ctx).astype('float32')\n",
    "        acc_sum += (net(X).argmax(axis=1) == y).sum()\n",
    "        n += y.size\n",
    "    return acc_sum.asscalar() / n"
   ]
  },
  {
   "cell_type": "code",
   "execution_count": 7,
   "metadata": {},
   "outputs": [],
   "source": [
    "def train_cnn(net, train_iter, test_iter, batch_size, trainer, ctx, num_epochs):\n",
    "    print('training on', ctx)\n",
    "    loss = gloss.SoftmaxCrossEntropyLoss()\n",
    "    for epoch in range(num_epochs):\n",
    "        train_l_sum, train_acc_sum, n, start = 0.0, 0.0, 0, time.time()\n",
    "        for X, y in train_iter:\n",
    "            X, y = X.as_in_context(ctx), y.as_in_context(ctx)\n",
    "            with autograd.record():\n",
    "                y_hat = net(X)\n",
    "                l = loss(y_hat, y).sum()\n",
    "            l.backward()\n",
    "            trainer.step(batch_size)\n",
    "            y = y.astype('float32')\n",
    "            train_l_sum += l.asscalar()\n",
    "            train_acc_sum += (y_hat.argmax(axis=1) == y).sum().asscalar()\n",
    "            n += y.size\n",
    "        test_acc = evaluate_accuracy(test_iter, net, ctx)\n",
    "        print('epoch %d, loss %.4f, train acc %.3f, test acc %.3f, time %.1f sec' % (\n",
    "            epoch + 1, train_l_sum / n, train_acc_sum / n, test_acc, time.time() - start))"
   ]
  },
  {
   "cell_type": "code",
   "execution_count": 8,
   "metadata": {},
   "outputs": [],
   "source": [
    "def get_dataloader_workers(num_workers=4):\n",
    "    # 0 means no additional process is used to speed up the reading of data.\n",
    "    if sys.platform.startswith('win'):\n",
    "        return 0\n",
    "    else:\n",
    "        return num_workers\n",
    "    \n",
    "    \n",
    "def load_data_fashion_mnist(batch_size, resize=None):\n",
    "    \"\"\"Download the Fashion-MNIST dataset and then load into memory.\"\"\"\n",
    "    dataset = gluon.data.vision\n",
    "    trans = [dataset.transforms.Resize(resize)] if resize else []\n",
    "    trans.append(dataset.transforms.ToTensor())\n",
    "    trans = dataset.transforms.Compose(trans)\n",
    "    mnist_train = dataset.FashionMNIST(train=True).transform_first(trans)\n",
    "    mnist_test = dataset.FashionMNIST(train=False).transform_first(trans)\n",
    "    return (gluon.data.DataLoader(mnist_train, batch_size, shuffle=True,\n",
    "                                  num_workers=get_dataloader_workers()),\n",
    "            gluon.data.DataLoader(mnist_test, batch_size, shuffle=False,\n",
    "                                  num_workers=get_dataloader_workers()))"
   ]
  },
  {
   "cell_type": "code",
   "execution_count": 9,
   "metadata": {},
   "outputs": [],
   "source": [
    "gluon.data.vision.FashionMNIST?"
   ]
  },
  {
   "cell_type": "code",
   "execution_count": 10,
   "metadata": {},
   "outputs": [],
   "source": [
    "batch_size = 256\n",
    "train_iter, test_iter = load_data_fashion_mnist(batch_size=batch_size)"
   ]
  },
  {
   "cell_type": "code",
   "execution_count": 11,
   "metadata": {},
   "outputs": [],
   "source": [
    "def get_fashion_mnist_labels(labels):\n",
    "    text_labels = ['t-shirt', 'trouser', 'pullover', 'dress', 'coat',\n",
    "                   'sandal', 'shirt', 'sneaker', 'bag', 'ankle boot']\n",
    "    return [text_labels[int(i)] for i in labels]\n",
    "\n",
    "\n",
    "def get_fashion_mnist_label(label):\n",
    "    text_labels = ['t-shirt', 'trouser', 'pullover', 'dress', 'coat',\n",
    "                   'sandal', 'shirt', 'sneaker', 'bag', 'ankle boot']\n",
    "    return text_labels[int(label)]\n",
    "\n",
    "\n",
    "def show_fashion_mnist(images, labels):\n",
    "    display.set_matplotlib_formats('svg')  # 用grey 就不行\n",
    "    _, figs = plt.subplots(1, len(images), figsize=(20, 20))\n",
    "    for f, img, lbl in zip(figs, images, labels):\n",
    "        f.imshow(img.reshape((28, 28)).asnumpy())\n",
    "        f.set_title(lbl)\n",
    "        f.axes.get_xaxis().set_visible(False)\n",
    "        f.axes.get_yaxis().set_visible(False)"
   ]
  },
  {
   "cell_type": "code",
   "execution_count": 12,
   "metadata": {},
   "outputs": [
    {
     "data": {
      "image/png": "[encoded data removed]",
      "text/plain": [
       "<Figure size 1728x1728 with 10 Axes>"
      ]
     },
     "metadata": {
      "needs_background": "light"
     },
     "output_type": "display_data"
    }
   ],
   "source": [
    "# visualize image set\n",
    "show_num = 10\n",
    "i = 0\n",
    "_, figs = plt.subplots(1, show_num, figsize=(24, 24))\n",
    "for sample_X, sample_y in train_iter:\n",
    "    break\n",
    "for image_pixel, image_label in zip(sample_X, sample_y):\n",
    "    # 不会自动换行\n",
    "    if i >= show_num:\n",
    "        break\n",
    "    f = figs[i]\n",
    "    f.imshow(image_pixel.reshape((28, 28)).asnumpy())\n",
    "    f.set_title(get_fashion_mnist_label(image_label.asscalar()))\n",
    "    f.axes.get_xaxis().set_visible(False)\n",
    "    f.axes.get_yaxis().set_visible(False)\n",
    "    i += 1"
   ]
  },
  {
   "cell_type": "code",
   "execution_count": 15,
   "metadata": {},
   "outputs": [
    {
     "data": {
      "text/plain": [
       "(1, 28, 28)"
      ]
     },
     "execution_count": 15,
     "metadata": {},
     "output_type": "execute_result"
    }
   ],
   "source": [
    "sample_X[0].shape"
   ]
  },
  {
   "cell_type": "code",
   "execution_count": 26,
   "metadata": {},
   "outputs": [
    {
     "name": "stdout",
     "output_type": "stream",
     "text": [
      "training on cpu(0)\n",
      "epoch 1, loss 2.3159, train acc 0.105, test acc 0.100, time 16.6 sec\n",
      "epoch 2, loss 1.4244, train acc 0.443, test acc 0.609, time 15.1 sec\n",
      "epoch 3, loss 0.8718, train acc 0.658, test acc 0.719, time 15.4 sec\n",
      "epoch 4, loss 0.7152, train acc 0.718, test acc 0.728, time 25.9 sec\n",
      "epoch 5, loss 0.6367, train acc 0.745, test acc 0.754, time 25.8 sec\n",
      "epoch 6, loss 0.5756, train acc 0.772, test acc 0.793, time 17.0 sec\n",
      "epoch 7, loss 0.5285, train acc 0.792, test acc 0.809, time 18.4 sec\n",
      "epoch 8, loss 0.4928, train acc 0.808, test acc 0.830, time 17.8 sec\n",
      "epoch 9, loss 0.4648, train acc 0.823, test acc 0.834, time 17.2 sec\n",
      "epoch 10, loss 0.4454, train acc 0.832, test acc 0.847, time 16.0 sec\n",
      "epoch 11, loss 0.4247, train acc 0.840, test acc 0.841, time 18.4 sec\n",
      "epoch 12, loss 0.4121, train acc 0.846, test acc 0.850, time 21.8 sec\n",
      "epoch 13, loss 0.3994, train acc 0.852, test acc 0.858, time 25.0 sec\n",
      "epoch 14, loss 0.3861, train acc 0.858, test acc 0.867, time 26.0 sec\n",
      "epoch 15, loss 0.3746, train acc 0.862, test acc 0.867, time 18.1 sec\n",
      "epoch 16, loss 0.3638, train acc 0.866, test acc 0.871, time 15.4 sec\n",
      "epoch 17, loss 0.3560, train acc 0.869, test acc 0.874, time 17.4 sec\n",
      "epoch 18, loss 0.3489, train acc 0.871, test acc 0.867, time 18.1 sec\n",
      "epoch 19, loss 0.3420, train acc 0.874, test acc 0.877, time 14.9 sec\n",
      "epoch 20, loss 0.3361, train acc 0.875, test acc 0.880, time 15.0 sec\n",
      "epoch 21, loss 0.3292, train acc 0.877, test acc 0.880, time 15.8 sec\n",
      "epoch 22, loss 0.3241, train acc 0.880, test acc 0.884, time 14.8 sec\n",
      "epoch 23, loss 0.3179, train acc 0.882, test acc 0.880, time 14.6 sec\n",
      "epoch 24, loss 0.3156, train acc 0.883, test acc 0.878, time 16.3 sec\n",
      "epoch 25, loss 0.3108, train acc 0.885, test acc 0.881, time 15.7 sec\n",
      "epoch 26, loss 0.3080, train acc 0.885, test acc 0.888, time 18.8 sec\n",
      "epoch 27, loss 0.3017, train acc 0.889, test acc 0.881, time 20.5 sec\n",
      "epoch 28, loss 0.2976, train acc 0.890, test acc 0.887, time 17.4 sec\n",
      "epoch 29, loss 0.2954, train acc 0.891, test acc 0.888, time 17.2 sec\n",
      "epoch 30, loss 0.2933, train acc 0.891, test acc 0.873, time 17.3 sec\n",
      "epoch 31, loss 0.2912, train acc 0.892, test acc 0.889, time 16.9 sec\n",
      "epoch 32, loss 0.2870, train acc 0.894, test acc 0.893, time 15.9 sec\n",
      "epoch 33, loss 0.2821, train acc 0.896, test acc 0.886, time 16.0 sec\n",
      "epoch 34, loss 0.2810, train acc 0.897, test acc 0.893, time 21.6 sec\n",
      "epoch 35, loss 0.2788, train acc 0.897, test acc 0.896, time 15.8 sec\n",
      "epoch 36, loss 0.2758, train acc 0.898, test acc 0.898, time 19.4 sec\n",
      "epoch 37, loss 0.2724, train acc 0.899, test acc 0.897, time 17.0 sec\n",
      "epoch 38, loss 0.2718, train acc 0.899, test acc 0.894, time 17.3 sec\n",
      "epoch 39, loss 0.2678, train acc 0.901, test acc 0.893, time 15.9 sec\n",
      "epoch 40, loss 0.2659, train acc 0.901, test acc 0.899, time 15.4 sec\n",
      "epoch 41, loss 0.2623, train acc 0.903, test acc 0.891, time 16.6 sec\n",
      "epoch 42, loss 0.2598, train acc 0.905, test acc 0.894, time 18.4 sec\n",
      "epoch 43, loss 0.2587, train acc 0.905, test acc 0.896, time 16.4 sec\n",
      "epoch 44, loss 0.2575, train acc 0.905, test acc 0.899, time 16.8 sec\n",
      "epoch 45, loss 0.2531, train acc 0.906, test acc 0.898, time 17.6 sec\n",
      "epoch 46, loss 0.2522, train acc 0.906, test acc 0.895, time 17.5 sec\n",
      "epoch 47, loss 0.2515, train acc 0.906, test acc 0.901, time 15.8 sec\n",
      "epoch 48, loss 0.2487, train acc 0.908, test acc 0.900, time 15.3 sec\n",
      "epoch 49, loss 0.2465, train acc 0.909, test acc 0.898, time 15.0 sec\n",
      "epoch 50, loss 0.2444, train acc 0.910, test acc 0.898, time 18.5 sec\n",
      "epoch 51, loss 0.2432, train acc 0.910, test acc 0.904, time 18.2 sec\n",
      "epoch 52, loss 0.2411, train acc 0.910, test acc 0.902, time 19.7 sec\n",
      "epoch 53, loss 0.2397, train acc 0.910, test acc 0.903, time 15.6 sec\n",
      "epoch 54, loss 0.2363, train acc 0.912, test acc 0.903, time 15.5 sec\n",
      "epoch 55, loss 0.2362, train acc 0.912, test acc 0.899, time 15.5 sec\n",
      "epoch 56, loss 0.2323, train acc 0.914, test acc 0.899, time 15.4 sec\n",
      "epoch 57, loss 0.2316, train acc 0.914, test acc 0.904, time 16.5 sec\n",
      "epoch 58, loss 0.2280, train acc 0.916, test acc 0.905, time 15.4 sec\n",
      "epoch 59, loss 0.2296, train acc 0.915, test acc 0.898, time 15.7 sec\n",
      "epoch 60, loss 0.2279, train acc 0.916, test acc 0.892, time 16.0 sec\n",
      "epoch 61, loss 0.2254, train acc 0.917, test acc 0.905, time 15.3 sec\n",
      "epoch 62, loss 0.2240, train acc 0.917, test acc 0.897, time 19.4 sec\n",
      "epoch 63, loss 0.2223, train acc 0.918, test acc 0.907, time 18.5 sec\n",
      "epoch 64, loss 0.2222, train acc 0.916, test acc 0.907, time 15.5 sec\n",
      "epoch 65, loss 0.2203, train acc 0.919, test acc 0.906, time 23.3 sec\n",
      "epoch 66, loss 0.2175, train acc 0.920, test acc 0.907, time 16.1 sec\n",
      "epoch 67, loss 0.2174, train acc 0.920, test acc 0.906, time 16.9 sec\n",
      "epoch 68, loss 0.2142, train acc 0.921, test acc 0.904, time 14.9 sec\n",
      "epoch 69, loss 0.2138, train acc 0.920, test acc 0.902, time 15.0 sec\n",
      "epoch 70, loss 0.2112, train acc 0.922, test acc 0.906, time 15.0 sec\n",
      "epoch 71, loss 0.2110, train acc 0.921, test acc 0.907, time 15.0 sec\n",
      "epoch 72, loss 0.2089, train acc 0.923, test acc 0.906, time 15.5 sec\n",
      "epoch 73, loss 0.2078, train acc 0.922, test acc 0.908, time 15.0 sec\n",
      "epoch 74, loss 0.2056, train acc 0.924, test acc 0.909, time 15.2 sec\n",
      "epoch 75, loss 0.2065, train acc 0.923, test acc 0.906, time 15.8 sec\n",
      "epoch 76, loss 0.2031, train acc 0.924, test acc 0.905, time 17.3 sec\n",
      "epoch 77, loss 0.2029, train acc 0.925, test acc 0.907, time 15.1 sec\n",
      "epoch 78, loss 0.2009, train acc 0.926, test acc 0.908, time 15.6 sec\n",
      "epoch 79, loss 0.2000, train acc 0.925, test acc 0.909, time 18.0 sec\n",
      "epoch 80, loss 0.1983, train acc 0.926, test acc 0.906, time 16.5 sec\n",
      "epoch 81, loss 0.1966, train acc 0.927, test acc 0.907, time 15.7 sec\n",
      "epoch 82, loss 0.1957, train acc 0.928, test acc 0.909, time 16.6 sec\n",
      "epoch 83, loss 0.1955, train acc 0.928, test acc 0.908, time 18.2 sec\n",
      "epoch 84, loss 0.1925, train acc 0.928, test acc 0.904, time 16.3 sec\n",
      "epoch 85, loss 0.1899, train acc 0.930, test acc 0.910, time 17.1 sec\n",
      "epoch 86, loss 0.1904, train acc 0.928, test acc 0.911, time 16.4 sec\n",
      "epoch 87, loss 0.1898, train acc 0.929, test acc 0.910, time 16.1 sec\n",
      "epoch 88, loss 0.1870, train acc 0.930, test acc 0.905, time 17.2 sec\n",
      "epoch 89, loss 0.1869, train acc 0.929, test acc 0.908, time 16.3 sec\n",
      "epoch 90, loss 0.1851, train acc 0.931, test acc 0.909, time 15.9 sec\n",
      "epoch 91, loss 0.1839, train acc 0.931, test acc 0.905, time 15.0 sec\n",
      "epoch 92, loss 0.1827, train acc 0.932, test acc 0.908, time 15.0 sec\n",
      "epoch 93, loss 0.1840, train acc 0.932, test acc 0.909, time 15.6 sec\n",
      "epoch 94, loss 0.1815, train acc 0.932, test acc 0.908, time 15.7 sec\n",
      "epoch 95, loss 0.1791, train acc 0.934, test acc 0.910, time 16.2 sec\n",
      "epoch 96, loss 0.1791, train acc 0.932, test acc 0.904, time 16.5 sec\n",
      "epoch 97, loss 0.1773, train acc 0.934, test acc 0.909, time 14.9 sec\n",
      "epoch 98, loss 0.1774, train acc 0.933, test acc 0.908, time 15.0 sec\n",
      "epoch 99, loss 0.1736, train acc 0.935, test acc 0.909, time 15.6 sec\n",
      "epoch 100, loss 0.1743, train acc 0.934, test acc 0.911, time 15.3 sec\n"
     ]
    }
   ],
   "source": [
    "context = get_ctx()\n",
    "lr, num_epochs = 0.9, 100\n",
    "lenet.initialize(force_reinit=True, ctx=context, init=init.Xavier())\n",
    "trainer = gluon.Trainer(lenet.collect_params(), 'sgd', {'learning_rate': lr})\n",
    "train_cnn(lenet, train_iter, test_iter, batch_size, trainer, context, num_epochs)"
   ]
  },
  {
   "cell_type": "code",
   "execution_count": 30,
   "metadata": {},
   "outputs": [],
   "source": [
    "alexnet = nn.Sequential()\n",
    "alexnet.add(nn.Conv2D(96, kernel_size=11, strides=4, activation='relu'),\n",
    "        nn.MaxPool2D(pool_size=3, strides=2),\n",
    "        # 减小卷积窗口，使用填充为2来使得输入与输出的高和宽一致，且增大输出通道数\n",
    "        nn.Conv2D(256, kernel_size=5, padding=2, activation='relu'),\n",
    "        nn.MaxPool2D(pool_size=3, strides=2),\n",
    "        # 连续3个卷积层，且使用更小的卷积窗口。除了最后的卷积层外，进一步增大了输出通道数。\n",
    "        # 前两个卷积层后不使用池化层来减小输入的高和宽\n",
    "        nn.Conv2D(384, kernel_size=3, padding=1, activation='relu'),\n",
    "        nn.Conv2D(384, kernel_size=3, padding=1, activation='relu'),\n",
    "        nn.Conv2D(256, kernel_size=3, padding=1, activation='relu'),\n",
    "        nn.MaxPool2D(pool_size=3, strides=2),\n",
    "        # 这里全连接层的输出个数比LeNet中的大数倍。使用丢弃层来缓解过拟合\n",
    "        nn.Dense(4096, activation=\"relu\"), nn.Dropout(0.5),\n",
    "        nn.Dense(4096, activation=\"relu\"), nn.Dropout(0.5),\n",
    "        # 输出层。由于这里使用Fashion-MNIST，所以用类别数为10，而非论文中的1000\n",
    "        nn.Dense(10))"
   ]
  },
  {
   "cell_type": "code",
   "execution_count": 34,
   "metadata": {},
   "outputs": [
    {
     "name": "stdout",
     "output_type": "stream",
     "text": [
      "conv4 output shape:\t (1, 96, 54, 54)\n",
      "pool4 output shape:\t (1, 96, 26, 26)\n",
      "conv5 output shape:\t (1, 256, 26, 26)\n",
      "pool5 output shape:\t (1, 256, 12, 12)\n",
      "conv6 output shape:\t (1, 384, 12, 12)\n",
      "conv7 output shape:\t (1, 384, 12, 12)\n",
      "conv8 output shape:\t (1, 256, 12, 12)\n",
      "pool6 output shape:\t (1, 256, 5, 5)\n",
      "dense6 output shape:\t (1, 4096)\n",
      "dropout0 output shape:\t (1, 4096)\n",
      "dense7 output shape:\t (1, 4096)\n",
      "dropout1 output shape:\t (1, 4096)\n",
      "dense8 output shape:\t (1, 10)\n"
     ]
    }
   ],
   "source": [
    "X = nd.random.uniform(shape=(1, 1, 224, 224))\n",
    "alexnet.initialize(force_reinit=True)\n",
    "for layer in alexnet:\n",
    "    X = layer(X)\n",
    "    print(layer.name, 'output shape:\\t', X.shape)"
   ]
  },
  {
   "cell_type": "code",
   "execution_count": 35,
   "metadata": {},
   "outputs": [
    {
     "name": "stderr",
     "output_type": "stream",
     "text": [
      "Process ForkPoolWorker-20:\n",
      "Process ForkPoolWorker-17:\n",
      "Process ForkPoolWorker-23:\n",
      "Process ForkPoolWorker-22:\n",
      "Process ForkPoolWorker-19:\n",
      "Process ForkPoolWorker-18:\n",
      "Process ForkPoolWorker-24:\n",
      "Process ForkPoolWorker-21:\n",
      "Traceback (most recent call last):\n",
      "Traceback (most recent call last):\n",
      "Traceback (most recent call last):\n",
      "Traceback (most recent call last):\n",
      "Traceback (most recent call last):\n",
      "Traceback (most recent call last):\n",
      "Traceback (most recent call last):\n",
      "Traceback (most recent call last):\n",
      "  File \"/usr/local/Cellar/python/3.7.4_1/Frameworks/Python.framework/Versions/3.7/lib/python3.7/multiprocessing/process.py\", line 297, in _bootstrap\n",
      "    self.run()\n",
      "  File \"/usr/local/Cellar/python/3.7.4_1/Frameworks/Python.framework/Versions/3.7/lib/python3.7/multiprocessing/process.py\", line 297, in _bootstrap\n",
      "    self.run()\n",
      "  File \"/usr/local/Cellar/python/3.7.4_1/Frameworks/Python.framework/Versions/3.7/lib/python3.7/multiprocessing/process.py\", line 297, in _bootstrap\n",
      "    self.run()\n",
      "  File \"/usr/local/Cellar/python/3.7.4_1/Frameworks/Python.framework/Versions/3.7/lib/python3.7/multiprocessing/process.py\", line 297, in _bootstrap\n",
      "    self.run()\n",
      "  File \"/usr/local/Cellar/python/3.7.4_1/Frameworks/Python.framework/Versions/3.7/lib/python3.7/multiprocessing/process.py\", line 297, in _bootstrap\n",
      "    self.run()\n",
      "  File \"/usr/local/Cellar/python/3.7.4_1/Frameworks/Python.framework/Versions/3.7/lib/python3.7/multiprocessing/process.py\", line 297, in _bootstrap\n",
      "    self.run()\n",
      "  File \"/usr/local/Cellar/python/3.7.4_1/Frameworks/Python.framework/Versions/3.7/lib/python3.7/multiprocessing/process.py\", line 297, in _bootstrap\n",
      "    self.run()\n",
      "  File \"/usr/local/Cellar/python/3.7.4_1/Frameworks/Python.framework/Versions/3.7/lib/python3.7/multiprocessing/process.py\", line 99, in run\n",
      "    self._target(*self._args, **self._kwargs)\n",
      "  File \"/usr/local/Cellar/python/3.7.4_1/Frameworks/Python.framework/Versions/3.7/lib/python3.7/multiprocessing/process.py\", line 297, in _bootstrap\n",
      "    self.run()\n",
      "  File \"/usr/local/Cellar/python/3.7.4_1/Frameworks/Python.framework/Versions/3.7/lib/python3.7/multiprocessing/process.py\", line 99, in run\n",
      "    self._target(*self._args, **self._kwargs)\n",
      "  File \"/usr/local/Cellar/python/3.7.4_1/Frameworks/Python.framework/Versions/3.7/lib/python3.7/multiprocessing/process.py\", line 99, in run\n",
      "    self._target(*self._args, **self._kwargs)\n",
      "  File \"/usr/local/Cellar/python/3.7.4_1/Frameworks/Python.framework/Versions/3.7/lib/python3.7/multiprocessing/process.py\", line 99, in run\n",
      "    self._target(*self._args, **self._kwargs)\n",
      "  File \"/usr/local/Cellar/python/3.7.4_1/Frameworks/Python.framework/Versions/3.7/lib/python3.7/multiprocessing/process.py\", line 99, in run\n",
      "    self._target(*self._args, **self._kwargs)\n",
      "  File \"/usr/local/Cellar/python/3.7.4_1/Frameworks/Python.framework/Versions/3.7/lib/python3.7/multiprocessing/process.py\", line 99, in run\n",
      "    self._target(*self._args, **self._kwargs)\n",
      "  File \"/usr/local/Cellar/python/3.7.4_1/Frameworks/Python.framework/Versions/3.7/lib/python3.7/multiprocessing/process.py\", line 99, in run\n",
      "    self._target(*self._args, **self._kwargs)\n",
      "  File \"/usr/local/Cellar/python/3.7.4_1/Frameworks/Python.framework/Versions/3.7/lib/python3.7/multiprocessing/pool.py\", line 110, in worker\n",
      "    task = get()\n",
      "  File \"/usr/local/Cellar/python/3.7.4_1/Frameworks/Python.framework/Versions/3.7/lib/python3.7/multiprocessing/pool.py\", line 110, in worker\n",
      "    task = get()\n",
      "  File \"/usr/local/Cellar/python/3.7.4_1/Frameworks/Python.framework/Versions/3.7/lib/python3.7/multiprocessing/pool.py\", line 110, in worker\n",
      "    task = get()\n",
      "  File \"/usr/local/Cellar/python/3.7.4_1/Frameworks/Python.framework/Versions/3.7/lib/python3.7/multiprocessing/process.py\", line 99, in run\n",
      "    self._target(*self._args, **self._kwargs)\n",
      "  File \"/usr/local/Cellar/python/3.7.4_1/Frameworks/Python.framework/Versions/3.7/lib/python3.7/multiprocessing/pool.py\", line 110, in worker\n",
      "    task = get()\n",
      "  File \"/usr/local/Cellar/python/3.7.4_1/Frameworks/Python.framework/Versions/3.7/lib/python3.7/multiprocessing/pool.py\", line 110, in worker\n",
      "    task = get()\n",
      "  File \"/usr/local/Cellar/python/3.7.4_1/Frameworks/Python.framework/Versions/3.7/lib/python3.7/multiprocessing/pool.py\", line 110, in worker\n",
      "    task = get()\n",
      "  File \"/usr/local/Cellar/python/3.7.4_1/Frameworks/Python.framework/Versions/3.7/lib/python3.7/multiprocessing/pool.py\", line 110, in worker\n",
      "    task = get()\n",
      "  File \"/usr/local/Cellar/python/3.7.4_1/Frameworks/Python.framework/Versions/3.7/lib/python3.7/multiprocessing/queues.py\", line 351, in get\n",
      "    with self._rlock:\n",
      "  File \"/usr/local/Cellar/python/3.7.4_1/Frameworks/Python.framework/Versions/3.7/lib/python3.7/multiprocessing/queues.py\", line 351, in get\n",
      "    with self._rlock:\n",
      "  File \"/usr/local/Cellar/python/3.7.4_1/Frameworks/Python.framework/Versions/3.7/lib/python3.7/multiprocessing/queues.py\", line 351, in get\n",
      "    with self._rlock:\n",
      "  File \"/usr/local/Cellar/python/3.7.4_1/Frameworks/Python.framework/Versions/3.7/lib/python3.7/multiprocessing/queues.py\", line 351, in get\n",
      "    with self._rlock:\n",
      "  File \"/usr/local/Cellar/python/3.7.4_1/Frameworks/Python.framework/Versions/3.7/lib/python3.7/multiprocessing/queues.py\", line 351, in get\n",
      "    with self._rlock:\n",
      "  File \"/usr/local/Cellar/python/3.7.4_1/Frameworks/Python.framework/Versions/3.7/lib/python3.7/multiprocessing/synchronize.py\", line 95, in __enter__\n",
      "    return self._semlock.__enter__()\n",
      "  File \"/usr/local/Cellar/python/3.7.4_1/Frameworks/Python.framework/Versions/3.7/lib/python3.7/multiprocessing/queues.py\", line 352, in get\n",
      "    res = self._reader.recv_bytes()\n",
      "  File \"/usr/local/Cellar/python/3.7.4_1/Frameworks/Python.framework/Versions/3.7/lib/python3.7/multiprocessing/synchronize.py\", line 95, in __enter__\n",
      "    return self._semlock.__enter__()\n",
      "  File \"/usr/local/Cellar/python/3.7.4_1/Frameworks/Python.framework/Versions/3.7/lib/python3.7/multiprocessing/pool.py\", line 110, in worker\n",
      "    task = get()\n",
      "  File \"/usr/local/Cellar/python/3.7.4_1/Frameworks/Python.framework/Versions/3.7/lib/python3.7/multiprocessing/queues.py\", line 351, in get\n",
      "    with self._rlock:\n",
      "  File \"/usr/local/Cellar/python/3.7.4_1/Frameworks/Python.framework/Versions/3.7/lib/python3.7/multiprocessing/connection.py\", line 216, in recv_bytes\n",
      "    buf = self._recv_bytes(maxlength)\n",
      "  File \"/usr/local/Cellar/python/3.7.4_1/Frameworks/Python.framework/Versions/3.7/lib/python3.7/multiprocessing/synchronize.py\", line 95, in __enter__\n",
      "    return self._semlock.__enter__()\n",
      "KeyboardInterrupt\n",
      "  File \"/usr/local/Cellar/python/3.7.4_1/Frameworks/Python.framework/Versions/3.7/lib/python3.7/multiprocessing/synchronize.py\", line 95, in __enter__\n",
      "    return self._semlock.__enter__()\n",
      "  File \"/usr/local/Cellar/python/3.7.4_1/Frameworks/Python.framework/Versions/3.7/lib/python3.7/multiprocessing/synchronize.py\", line 95, in __enter__\n",
      "    return self._semlock.__enter__()\n",
      "KeyboardInterrupt\n",
      "  File \"/usr/local/Cellar/python/3.7.4_1/Frameworks/Python.framework/Versions/3.7/lib/python3.7/multiprocessing/synchronize.py\", line 95, in __enter__\n",
      "    return self._semlock.__enter__()\n",
      "  File \"/usr/local/Cellar/python/3.7.4_1/Frameworks/Python.framework/Versions/3.7/lib/python3.7/multiprocessing/queues.py\", line 352, in get\n",
      "    res = self._reader.recv_bytes()\n",
      "  File \"/usr/local/Cellar/python/3.7.4_1/Frameworks/Python.framework/Versions/3.7/lib/python3.7/multiprocessing/connection.py\", line 216, in recv_bytes\n",
      "    buf = self._recv_bytes(maxlength)\n",
      "  File \"/usr/local/Cellar/python/3.7.4_1/Frameworks/Python.framework/Versions/3.7/lib/python3.7/multiprocessing/connection.py\", line 407, in _recv_bytes\n",
      "    buf = self._recv(4)\n",
      "KeyboardInterrupt\n",
      "KeyboardInterrupt\n",
      "KeyboardInterrupt\n",
      "KeyboardInterrupt\n",
      "  File \"/usr/local/Cellar/python/3.7.4_1/Frameworks/Python.framework/Versions/3.7/lib/python3.7/multiprocessing/connection.py\", line 407, in _recv_bytes\n",
      "    buf = self._recv(4)\n",
      "  File \"/usr/local/Cellar/python/3.7.4_1/Frameworks/Python.framework/Versions/3.7/lib/python3.7/multiprocessing/connection.py\", line 379, in _recv\n",
      "    chunk = read(handle, remaining)\n",
      "KeyboardInterrupt\n",
      "  File \"/usr/local/Cellar/python/3.7.4_1/Frameworks/Python.framework/Versions/3.7/lib/python3.7/multiprocessing/connection.py\", line 379, in _recv\n",
      "    chunk = read(handle, remaining)\n"
     ]
    },
    {
     "name": "stderr",
     "output_type": "stream",
     "text": [
      "KeyboardInterrupt\n"
     ]
    }
   ],
   "source": [
    "batch_size = 128\n",
    "# 如出现“out of memory”的报错信息，可减小batch_size或resize\n",
    "train_iter, test_iter = load_data_fashion_mnist(batch_size, resize=224)"
   ]
  },
  {
   "cell_type": "code",
   "execution_count": 38,
   "metadata": {},
   "outputs": [
    {
     "name": "stdout",
     "output_type": "stream",
     "text": [
      "training on cpu(0)\n"
     ]
    },
    {
     "ename": "KeyboardInterrupt",
     "evalue": "",
     "output_type": "error",
     "traceback": [
      "\u001b[0;31m---------------------------------------------------------------------------\u001b[0m",
      "\u001b[0;31mKeyboardInterrupt\u001b[0m                         Traceback (most recent call last)",
      "\u001b[0;32m<ipython-input-38-6c90964f7fc2>\u001b[0m in \u001b[0;36m<module>\u001b[0;34m\u001b[0m\n\u001b[1;32m      2\u001b[0m \u001b[0malexnet\u001b[0m\u001b[0;34m.\u001b[0m\u001b[0minitialize\u001b[0m\u001b[0;34m(\u001b[0m\u001b[0mforce_reinit\u001b[0m\u001b[0;34m=\u001b[0m\u001b[0;32mTrue\u001b[0m\u001b[0;34m,\u001b[0m \u001b[0mctx\u001b[0m\u001b[0;34m=\u001b[0m\u001b[0mcontext\u001b[0m\u001b[0;34m,\u001b[0m \u001b[0minit\u001b[0m\u001b[0;34m=\u001b[0m\u001b[0minit\u001b[0m\u001b[0;34m.\u001b[0m\u001b[0mXavier\u001b[0m\u001b[0;34m(\u001b[0m\u001b[0;34m)\u001b[0m\u001b[0;34m)\u001b[0m\u001b[0;34m\u001b[0m\u001b[0;34m\u001b[0m\u001b[0m\n\u001b[1;32m      3\u001b[0m \u001b[0mtrainer\u001b[0m \u001b[0;34m=\u001b[0m \u001b[0mgluon\u001b[0m\u001b[0;34m.\u001b[0m\u001b[0mTrainer\u001b[0m\u001b[0;34m(\u001b[0m\u001b[0malexnet\u001b[0m\u001b[0;34m.\u001b[0m\u001b[0mcollect_params\u001b[0m\u001b[0;34m(\u001b[0m\u001b[0;34m)\u001b[0m\u001b[0;34m,\u001b[0m \u001b[0;34m'sgd'\u001b[0m\u001b[0;34m,\u001b[0m \u001b[0;34m{\u001b[0m\u001b[0;34m'learning_rate'\u001b[0m\u001b[0;34m:\u001b[0m \u001b[0mlr\u001b[0m\u001b[0;34m}\u001b[0m\u001b[0;34m)\u001b[0m\u001b[0;34m\u001b[0m\u001b[0;34m\u001b[0m\u001b[0m\n\u001b[0;32m----> 4\u001b[0;31m \u001b[0mtrain_cnn\u001b[0m\u001b[0;34m(\u001b[0m\u001b[0malexnet\u001b[0m\u001b[0;34m,\u001b[0m \u001b[0mtrain_iter\u001b[0m\u001b[0;34m,\u001b[0m \u001b[0mtest_iter\u001b[0m\u001b[0;34m,\u001b[0m \u001b[0mbatch_size\u001b[0m\u001b[0;34m,\u001b[0m \u001b[0mtrainer\u001b[0m\u001b[0;34m,\u001b[0m \u001b[0mcontext\u001b[0m\u001b[0;34m,\u001b[0m \u001b[0mnum_epochs\u001b[0m\u001b[0;34m)\u001b[0m\u001b[0;34m\u001b[0m\u001b[0;34m\u001b[0m\u001b[0m\n\u001b[0m",
      "\u001b[0;32m<ipython-input-23-58459d6bc941>\u001b[0m in \u001b[0;36mtrain_cnn\u001b[0;34m(net, train_iter, test_iter, batch_size, trainer, ctx, num_epochs)\u001b[0m\n\u001b[1;32m     13\u001b[0m             \u001b[0my\u001b[0m \u001b[0;34m=\u001b[0m \u001b[0my\u001b[0m\u001b[0;34m.\u001b[0m\u001b[0mastype\u001b[0m\u001b[0;34m(\u001b[0m\u001b[0;34m'float32'\u001b[0m\u001b[0;34m)\u001b[0m\u001b[0;34m\u001b[0m\u001b[0;34m\u001b[0m\u001b[0m\n\u001b[1;32m     14\u001b[0m             \u001b[0mtrain_l_sum\u001b[0m \u001b[0;34m+=\u001b[0m \u001b[0ml\u001b[0m\u001b[0;34m.\u001b[0m\u001b[0masscalar\u001b[0m\u001b[0;34m(\u001b[0m\u001b[0;34m)\u001b[0m\u001b[0;34m\u001b[0m\u001b[0;34m\u001b[0m\u001b[0m\n\u001b[0;32m---> 15\u001b[0;31m             \u001b[0mtrain_acc_sum\u001b[0m \u001b[0;34m+=\u001b[0m \u001b[0;34m(\u001b[0m\u001b[0my_hat\u001b[0m\u001b[0;34m.\u001b[0m\u001b[0margmax\u001b[0m\u001b[0;34m(\u001b[0m\u001b[0maxis\u001b[0m\u001b[0;34m=\u001b[0m\u001b[0;36m1\u001b[0m\u001b[0;34m)\u001b[0m \u001b[0;34m==\u001b[0m \u001b[0my\u001b[0m\u001b[0;34m)\u001b[0m\u001b[0;34m.\u001b[0m\u001b[0msum\u001b[0m\u001b[0;34m(\u001b[0m\u001b[0;34m)\u001b[0m\u001b[0;34m.\u001b[0m\u001b[0masscalar\u001b[0m\u001b[0;34m(\u001b[0m\u001b[0;34m)\u001b[0m\u001b[0;34m\u001b[0m\u001b[0;34m\u001b[0m\u001b[0m\n\u001b[0m\u001b[1;32m     16\u001b[0m             \u001b[0mn\u001b[0m \u001b[0;34m+=\u001b[0m \u001b[0my\u001b[0m\u001b[0;34m.\u001b[0m\u001b[0msize\u001b[0m\u001b[0;34m\u001b[0m\u001b[0;34m\u001b[0m\u001b[0m\n\u001b[1;32m     17\u001b[0m         \u001b[0mtest_acc\u001b[0m \u001b[0;34m=\u001b[0m \u001b[0mevaluate_accuracy\u001b[0m\u001b[0;34m(\u001b[0m\u001b[0mtest_iter\u001b[0m\u001b[0;34m,\u001b[0m \u001b[0mnet\u001b[0m\u001b[0;34m,\u001b[0m \u001b[0mctx\u001b[0m\u001b[0;34m)\u001b[0m\u001b[0;34m\u001b[0m\u001b[0;34m\u001b[0m\u001b[0m\n",
      "\u001b[0;32m~/Learning/EnvLearning/lib/python3.7/site-packages/mxnet/ndarray/ndarray.py\u001b[0m in \u001b[0;36masscalar\u001b[0;34m(self)\u001b[0m\n\u001b[1;32m   2012\u001b[0m         \u001b[0;32mif\u001b[0m \u001b[0mself\u001b[0m\u001b[0;34m.\u001b[0m\u001b[0mshape\u001b[0m \u001b[0;34m!=\u001b[0m \u001b[0;34m(\u001b[0m\u001b[0;36m1\u001b[0m\u001b[0;34m,\u001b[0m\u001b[0;34m)\u001b[0m\u001b[0;34m:\u001b[0m\u001b[0;34m\u001b[0m\u001b[0;34m\u001b[0m\u001b[0m\n\u001b[1;32m   2013\u001b[0m             \u001b[0;32mraise\u001b[0m \u001b[0mValueError\u001b[0m\u001b[0;34m(\u001b[0m\u001b[0;34m\"The current array is not a scalar\"\u001b[0m\u001b[0;34m)\u001b[0m\u001b[0;34m\u001b[0m\u001b[0;34m\u001b[0m\u001b[0m\n\u001b[0;32m-> 2014\u001b[0;31m         \u001b[0;32mreturn\u001b[0m \u001b[0mself\u001b[0m\u001b[0;34m.\u001b[0m\u001b[0masnumpy\u001b[0m\u001b[0;34m(\u001b[0m\u001b[0;34m)\u001b[0m\u001b[0;34m[\u001b[0m\u001b[0;36m0\u001b[0m\u001b[0;34m]\u001b[0m\u001b[0;34m\u001b[0m\u001b[0;34m\u001b[0m\u001b[0m\n\u001b[0m\u001b[1;32m   2015\u001b[0m \u001b[0;34m\u001b[0m\u001b[0m\n\u001b[1;32m   2016\u001b[0m     \u001b[0;32mdef\u001b[0m \u001b[0mastype\u001b[0m\u001b[0;34m(\u001b[0m\u001b[0mself\u001b[0m\u001b[0;34m,\u001b[0m \u001b[0mdtype\u001b[0m\u001b[0;34m,\u001b[0m \u001b[0mcopy\u001b[0m\u001b[0;34m=\u001b[0m\u001b[0;32mTrue\u001b[0m\u001b[0;34m)\u001b[0m\u001b[0;34m:\u001b[0m\u001b[0;34m\u001b[0m\u001b[0;34m\u001b[0m\u001b[0m\n",
      "\u001b[0;32m~/Learning/EnvLearning/lib/python3.7/site-packages/mxnet/ndarray/ndarray.py\u001b[0m in \u001b[0;36masnumpy\u001b[0;34m(self)\u001b[0m\n\u001b[1;32m   1994\u001b[0m             \u001b[0mself\u001b[0m\u001b[0;34m.\u001b[0m\u001b[0mhandle\u001b[0m\u001b[0;34m,\u001b[0m\u001b[0;34m\u001b[0m\u001b[0;34m\u001b[0m\u001b[0m\n\u001b[1;32m   1995\u001b[0m             \u001b[0mdata\u001b[0m\u001b[0;34m.\u001b[0m\u001b[0mctypes\u001b[0m\u001b[0;34m.\u001b[0m\u001b[0mdata_as\u001b[0m\u001b[0;34m(\u001b[0m\u001b[0mctypes\u001b[0m\u001b[0;34m.\u001b[0m\u001b[0mc_void_p\u001b[0m\u001b[0;34m)\u001b[0m\u001b[0;34m,\u001b[0m\u001b[0;34m\u001b[0m\u001b[0;34m\u001b[0m\u001b[0m\n\u001b[0;32m-> 1996\u001b[0;31m             ctypes.c_size_t(data.size)))\n\u001b[0m\u001b[1;32m   1997\u001b[0m         \u001b[0;32mreturn\u001b[0m \u001b[0mdata\u001b[0m\u001b[0;34m\u001b[0m\u001b[0;34m\u001b[0m\u001b[0m\n\u001b[1;32m   1998\u001b[0m \u001b[0;34m\u001b[0m\u001b[0m\n",
      "\u001b[0;31mKeyboardInterrupt\u001b[0m: "
     ]
    }
   ],
   "source": [
    "lr, num_epochs = 0.01, 5\n",
    "alexnet.initialize(force_reinit=True, ctx=context, init=init.Xavier())\n",
    "trainer = gluon.Trainer(alexnet.collect_params(), 'sgd', {'learning_rate': lr})\n",
    "train_cnn(alexnet, train_iter, test_iter, batch_size, trainer, context, num_epochs)"
   ]
  },
  {
   "cell_type": "code",
   "execution_count": 42,
   "metadata": {},
   "outputs": [],
   "source": [
    "# VGG\n",
    "def vgg_block(num_convs, num_channels):\n",
    "    block = nn.Sequential()\n",
    "    for _ in range(num_convs):\n",
    "        block.add(nn.Conv2D(\n",
    "            num_channels, kernel_size=3, padding=1, activation='relu'))\n",
    "    block.add(nn.MaxPool2D(pool_size=2, strides=2))\n",
    "    return block"
   ]
  },
  {
   "cell_type": "code",
   "execution_count": 43,
   "metadata": {},
   "outputs": [],
   "source": [
    "def vgg(conv_arch):\n",
    "    net = nn.Sequential()\n",
    "    # 卷积层部分\n",
    "    for (num_convs, num_channels) in conv_arch:\n",
    "        net.add(vgg_block(num_convs, num_channels))\n",
    "    # 全连接层部分\n",
    "    net.add(nn.Dense(4096, activation='relu'), nn.Dropout(0.5),\n",
    "            nn.Dense(4096, activation='relu'), nn.Dropout(0.5),\n",
    "            nn.Dense(10))\n",
    "    return net"
   ]
  },
  {
   "cell_type": "code",
   "execution_count": 44,
   "metadata": {},
   "outputs": [],
   "source": [
    "conv_arch = ((1, 64), (1, 128), (2, 256), (2, 512), (2, 512))\n",
    "vggnet = vgg(conv_arch)"
   ]
  },
  {
   "cell_type": "code",
   "execution_count": 47,
   "metadata": {},
   "outputs": [
    {
     "name": "stdout",
     "output_type": "stream",
     "text": [
      "sequential7 output shape:\t (1, 64, 112, 112)\n",
      "sequential8 output shape:\t (1, 128, 56, 56)\n",
      "sequential9 output shape:\t (1, 256, 28, 28)\n",
      "sequential10 output shape:\t (1, 512, 14, 14)\n",
      "sequential11 output shape:\t (1, 512, 7, 7)\n",
      "dense9 output shape:\t (1, 4096)\n",
      "dropout2 output shape:\t (1, 4096)\n",
      "dense10 output shape:\t (1, 4096)\n",
      "dropout3 output shape:\t (1, 4096)\n",
      "dense11 output shape:\t (1, 10)\n"
     ]
    }
   ],
   "source": [
    "vggnet.initialize(force_reinit=True)\n",
    "X = nd.random.uniform(shape=(1, 1, 224, 224))\n",
    "for blk in vggnet:\n",
    "    X = blk(X)\n",
    "    print(blk.name, 'output shape:\\t', X.shape)"
   ]
  },
  {
   "cell_type": "code",
   "execution_count": 48,
   "metadata": {},
   "outputs": [],
   "source": [
    "def nin_block(num_channels, kernel_size, strides, padding):\n",
    "    blk = nn.Sequential()\n",
    "    blk.add(nn.Conv2D(num_channels, kernel_size,\n",
    "                      strides, padding, activation='relu'),\n",
    "            nn.Conv2D(num_channels, kernel_size=1, activation='relu'),\n",
    "            nn.Conv2D(num_channels, kernel_size=1, activation='relu'))\n",
    "    return blk"
   ]
  },
  {
   "cell_type": "code",
   "execution_count": 49,
   "metadata": {},
   "outputs": [],
   "source": [
    "netinet = nn.Sequential()\n",
    "netinet.add(nin_block(96, kernel_size=11, strides=4, padding=0),\n",
    "        nn.MaxPool2D(pool_size=3, strides=2),\n",
    "        nin_block(256, kernel_size=5, strides=1, padding=2),\n",
    "        nn.MaxPool2D(pool_size=3, strides=2),\n",
    "        nin_block(384, kernel_size=3, strides=1, padding=1),\n",
    "        nn.MaxPool2D(pool_size=3, strides=2), nn.Dropout(0.5),\n",
    "        # 标签类别数是10\n",
    "        nin_block(10, kernel_size=3, strides=1, padding=1),\n",
    "        # 全局平均池化层将窗口形状自动设置成输入的高和宽\n",
    "        nn.GlobalAvgPool2D(),\n",
    "        # 将四维的输出转成二维的输出，其形状为(批量大小, 10)\n",
    "        nn.Flatten())"
   ]
  },
  {
   "cell_type": "code",
   "execution_count": 50,
   "metadata": {},
   "outputs": [
    {
     "name": "stdout",
     "output_type": "stream",
     "text": [
      "sequential13 output shape:\t (1, 96, 54, 54)\n",
      "pool12 output shape:\t (1, 96, 26, 26)\n",
      "sequential14 output shape:\t (1, 256, 26, 26)\n",
      "pool13 output shape:\t (1, 256, 12, 12)\n",
      "sequential15 output shape:\t (1, 384, 12, 12)\n",
      "pool14 output shape:\t (1, 384, 5, 5)\n",
      "dropout4 output shape:\t (1, 384, 5, 5)\n",
      "sequential16 output shape:\t (1, 10, 5, 5)\n",
      "pool15 output shape:\t (1, 10, 1, 1)\n",
      "flatten0 output shape:\t (1, 10)\n"
     ]
    }
   ],
   "source": [
    "X = nd.random.uniform(shape=(1, 1, 224, 224))\n",
    "netinet.initialize(force_reinit=True)\n",
    "for layer in netinet:\n",
    "    X = layer(X)\n",
    "    print(layer.name, 'output shape:\\t', X.shape)"
   ]
  },
  {
   "cell_type": "code",
   "execution_count": null,
   "metadata": {},
   "outputs": [],
   "source": [
    "lr, num_epochs, batch_size = 0.1, 5, 128\n",
    "net.initialize(force_reinit=True, ctx=context, init=init.Xavier())\n",
    "trainer = gluon.Trainer(net.collect_params(), 'sgd', {'learning_rate': lr})\n",
    "train_iter, test_iter = load_data_fashion_mnist(batch_size, resize=224)\n",
    "train_cnn(netinet, train_iter, test_iter, batch_size, trainer, context, num_epochs)"
   ]
  },
  {
   "cell_type": "code",
   "execution_count": 65,
   "metadata": {},
   "outputs": [],
   "source": [
    "class Inception(nn.Block):\n",
    "    \"\"\"\n",
    "    c1 - c4为每条线路里的层的输出通道数\n",
    "    这种forward 怎么反向计算\n",
    "    \"\"\"\n",
    "    def __init__(self, c1, c2, c3, c4, **kwargs):\n",
    "        super(Inception, self).__init__(**kwargs)\n",
    "        # 线路1，单1 x 1卷积层\n",
    "        self.p1_1 = nn.Conv2D(c1, kernel_size=1, activation='relu')\n",
    "        # 线路2，1 x 1卷积层后接3 x 3卷积层\n",
    "        self.p2_1 = nn.Conv2D(c2[0], kernel_size=1, activation='relu')\n",
    "        self.p2_2 = nn.Conv2D(c2[1], kernel_size=3, padding=1,\n",
    "                              activation='relu')\n",
    "        # 线路3，1 x 1卷积层后接5 x 5卷积层\n",
    "        self.p3_1 = nn.Conv2D(c3[0], kernel_size=1, activation='relu')\n",
    "        self.p3_2 = nn.Conv2D(c3[1], kernel_size=5, padding=2,\n",
    "                              activation='relu')\n",
    "        # 线路4，3 x 3最大池化层后接1 x 1卷积层\n",
    "        self.p4_1 = nn.MaxPool2D(pool_size=3, strides=1, padding=1)\n",
    "        self.p4_2 = nn.Conv2D(c4, kernel_size=1, activation='relu')\n",
    "\n",
    "    def forward(self, x):\n",
    "        p1 = self.p1_1(x)\n",
    "        p2 = self.p2_2(self.p2_1(x))\n",
    "        p3 = self.p3_2(self.p3_1(x))\n",
    "        p4 = self.p4_2(self.p4_1(x))\n",
    "        return nd.concat(p1, p2, p3, p4, dim=1)  # 在通道维上连结输出"
   ]
  },
  {
   "cell_type": "code",
   "execution_count": 66,
   "metadata": {},
   "outputs": [],
   "source": [
    "# GoogleNet: 主体卷积部分有5个 模块\n",
    "block_1 = nn.Sequential()\n",
    "block_1.add(\n",
    "    nn.Conv2D(64, kernel_size=7, strides=2, padding=3, activation='relu'),\n",
    "    nn.MaxPool2D(pool_size=3, strides=2, padding=1)\n",
    ")"
   ]
  },
  {
   "cell_type": "code",
   "execution_count": 67,
   "metadata": {},
   "outputs": [],
   "source": [
    "block_2 = nn.Sequential()\n",
    "block_2.add(\n",
    "    nn.Conv2D(64, kernel_size=1, activation='relu'),\n",
    "    nn.Conv2D(192, kernel_size=3, padding=1, activation='relu'),  # 通道数增大3倍\n",
    "    nn.MaxPool2D(pool_size=3, strides=2, padding=1)\n",
    ")"
   ]
  },
  {
   "cell_type": "code",
   "execution_count": 68,
   "metadata": {},
   "outputs": [],
   "source": [
    "# 第三模块: 2个inception\n",
    "block_3 = nn.Sequential()\n",
    "block_3.add(\n",
    "    Inception(64, (96, 128), (16, 32), 32),\n",
    "    Inception(128, (128, 192), (32, 96), 64),\n",
    "    nn.MaxPool2D(pool_size=3, strides=2, padding=1)\n",
    ")"
   ]
  },
  {
   "cell_type": "code",
   "execution_count": 69,
   "metadata": {},
   "outputs": [],
   "source": [
    "block_4 = nn.Sequential()\n",
    "block_4.add(\n",
    "    Inception(192, (96, 208), (16, 48), 64),\n",
    "    Inception(160, (112, 224), (24, 64), 64),\n",
    "    Inception(128, (128, 256), (24, 64), 64),\n",
    "    Inception(112, (144, 288), (32, 64), 64),\n",
    "    Inception(256, (160, 320), (32, 128), 128),\n",
    "    nn.MaxPool2D(pool_size=3, strides=2, padding=1)\n",
    ")"
   ]
  },
  {
   "cell_type": "code",
   "execution_count": 70,
   "metadata": {},
   "outputs": [],
   "source": [
    "block_5 = nn.Sequential()\n",
    "block_5.add(\n",
    "    Inception(256, (160, 320), (32, 128), 128),\n",
    "    Inception(384, (192, 384), (48, 128), 128),\n",
    "    nn.GlobalAvgPool2D()\n",
    ")"
   ]
  },
  {
   "cell_type": "code",
   "execution_count": 71,
   "metadata": {},
   "outputs": [],
   "source": [
    "google_net = nn.Sequential()\n",
    "google_net.add(\n",
    "    block_1,\n",
    "    block_2,\n",
    "    block_3,\n",
    "    block_4,\n",
    "    block_5,\n",
    "    nn.Dense(10)\n",
    ")"
   ]
  },
  {
   "cell_type": "code",
   "execution_count": 72,
   "metadata": {
    "scrolled": false
   },
   "outputs": [
    {
     "name": "stdout",
     "output_type": "stream",
     "text": [
      "sequential26 output shape:\t (1, 64, 24, 24)\n",
      "sequential27 output shape:\t (1, 192, 12, 12)\n",
      "sequential28 output shape:\t (1, 480, 6, 6)\n",
      "sequential29 output shape:\t (1, 832, 3, 3)\n",
      "sequential30 output shape:\t (1, 1024, 1, 1)\n",
      "dense14 output shape:\t (1, 10)\n"
     ]
    }
   ],
   "source": [
    "X = nd.random.uniform(shape=(1, 1, 96, 96))\n",
    "google_net.initialize(force_reinit=True)\n",
    "for layer in google_net:\n",
    "    X = layer(X)\n",
    "    print(layer.name, 'output shape:\\t', X.shape)"
   ]
  },
  {
   "cell_type": "code",
   "execution_count": null,
   "metadata": {},
   "outputs": [],
   "source": [
    "# 不敢执行, 悲哀\n",
    "lr, num_epochs, batch_size = 0.1, 5, 128\n",
    "google_net.initialize(force_reinit=True, ctx=context, init=init.Xavier())\n",
    "trainer = gluon.Trainer(google_net.collect_params(), 'sgd', {'learning_rate': lr})\n",
    "train_iter, test_iter = load_data_fashion_mnist(batch_size, resize=96)\n",
    "train_cnn(net, train_iter, test_iter, batch_size, trainer, context, num_epochs)"
   ]
  },
  {
   "cell_type": "code",
   "execution_count": 108,
   "metadata": {},
   "outputs": [],
   "source": [
    "# batch normalization\n",
    "# 批量归一化 的 backward怎么算\n",
    "# BN from scratch, without mxnet BacthNorm Class\n",
    "def batch_norm(X, gamma, beta, moving_mean, moving_var, eps, momentum):\n",
    "    \"\"\"\n",
    "    通过autograd来判断当前模式是训练模式还是预测模式\n",
    "    在预测模式下, 使用移动平均和 移动方差, 保证模型对于任意输入都有稳定的输出\n",
    "    :param X: \n",
    "    :param gamma: 拉伸系数\n",
    "    :param beta: 偏移系数\n",
    "    :param moving_mean: 移动平均, 估算整个训练数据集的样本均值\n",
    "    :param moving_var: 移动方差\n",
    "    :param eps: 小数, 避免分母为0\n",
    "    :parma momentum: \n",
    "    \"\"\"\n",
    "    if not autograd.is_training():\n",
    "        # 在 预测 测试集时(预测模式), 直接使用传入的移动平均所得的均值和方差\n",
    "        X_hat = (X - moving_mean) / nd.sqrt(moving_var + eps)\n",
    "        return gamma * X_hat, moving_mean, moving_var   # 拉伸和偏移\n",
    "    if len(X.shape) == 2:\n",
    "        # 全连接层\n",
    "        mean = X.mean(axis=0)  # 列\n",
    "        var = ((X - mean) ** 2).mean(axis=0)\n",
    "    elif len(X.shape) == 4:\n",
    "        mean = X.mean(axis=(0,2,3), keepdims=True)\n",
    "        var = ((X - mean) ** 2).mean(axis=(0,2,3), keepdims=True)\n",
    "    else:\n",
    "        raise Exception(\"Unkown X shape: {}\".format(X.shape))\n",
    "    X_hat = (X - mean) / nd.sqrt(var + eps)\n",
    "    # 更新移动平均的均值和方差做标准化\n",
    "    moving_mean = momentum * moving_mean + (1.0 - momentum) * mean\n",
    "    moving_var = momentum * moving_var + (1.0 - momentum) * var\n",
    "    return gamma * X_hat, moving_mean, moving_var"
   ]
  },
  {
   "cell_type": "code",
   "execution_count": 109,
   "metadata": {},
   "outputs": [],
   "source": [
    "class BatchNorm(nn.Block):\n",
    "    def __init__(self, num_features, num_dims, **kwargs):\n",
    "        super(BatchNorm, self).__init__(**kwargs)\n",
    "        if num_dims == 2:  # 全连接层\n",
    "            shape = (1, num_features)\n",
    "        else:\n",
    "            # 卷积层\n",
    "            shape = (1, num_features, 1, 1)\n",
    "        # 参与求梯度和迭代的拉伸和偏移参数，分别初始化成1和0\n",
    "        self.gamma = self.params.get('gamma', shape=shape, init=init.One())\n",
    "        self.beta = self.params.get('beta', shape=shape, init=init.Zero())\n",
    "        # 不参与求梯度和迭代的变量，全在内存上初始化成0\n",
    "        self.moving_mean = nd.zeros(shape)\n",
    "        self.moving_var = nd.zeros(shape)\n",
    "\n",
    "    def forward(self, X):\n",
    "        # 如果X不在内存上，将moving_mean和moving_var复制到X所在显存上\n",
    "        if self.moving_mean.context != X.context:\n",
    "            self.moving_mean = self.moving_mean.copyto(X.context)\n",
    "            self.moving_var = self.moving_var.copyto(X.context)\n",
    "        # 保存更新过的moving_mean和moving_var\n",
    "        Y, self.moving_mean, self.moving_var = batch_norm(\n",
    "            X, self.gamma.data(), self.beta.data(), self.moving_mean,\n",
    "            self.moving_var, eps=1e-5, momentum=0.9)\n",
    "        return Y"
   ]
  },
  {
   "cell_type": "code",
   "execution_count": 110,
   "metadata": {},
   "outputs": [],
   "source": [
    "lenet_with_bn = nn.Sequential()\n",
    "lenet_with_bn.add(\n",
    "    # 卷积层\n",
    "    nn.Conv2D(6, kernel_size=5),\n",
    "    BatchNorm(6, num_dims=4),  # 也可以使用 nn.BatchNorm()\n",
    "    nn.Activation('sigmoid'),\n",
    "    nn.MaxPool2D(pool_size=2, strides=2),\n",
    "    \n",
    "    nn.Conv2D(16, kernel_size=5),\n",
    "    BatchNorm(16, num_dims=4),\n",
    "    nn.Activation('sigmoid'),\n",
    "    nn.MaxPool2D(pool_size=2, strides=2),\n",
    "    # 全连接层\n",
    "    nn.Dense(120),\n",
    "    BatchNorm(120, num_dims=2),\n",
    "    nn.Activation('sigmoid'),\n",
    "    nn.Dense(84),\n",
    "    BatchNorm(84, num_dims=2),\n",
    "    nn.Activation('sigmoid'),\n",
    "    nn.Dense(10),\n",
    ")"
   ]
  },
  {
   "cell_type": "code",
   "execution_count": null,
   "metadata": {},
   "outputs": [],
   "source": [
    "lr, num_epochs, batch_size = 1.0, 5, 256\n",
    "net.initialize(ctx=context, init=init.Xavier())\n",
    "trainer = gluon.Trainer(net.collect_params(), 'sgd', {'learning_rate': lr})\n",
    "train_iter, test_iter = load_data_fashion_mnist(batch_size)\n",
    "train_cnn(lenet_with_bn, train_iter, test_iter, batch_size, trainer, context, num_epochs)"
   ]
  },
  {
   "cell_type": "code",
   "execution_count": 111,
   "metadata": {},
   "outputs": [],
   "source": [
    "class Residual(nn.Block):\n",
    "    def __init__(self, num_channels, use_1x1conv=False, strides=1, **kwargs):\n",
    "        super(Residual, self).__init__(**kwargs)\n",
    "        self.conv1 = nn.Conv2D(num_channels, kernel_size=3, padding=1,\n",
    "                               strides=strides)\n",
    "        self.conv2 = nn.Conv2D(num_channels, kernel_size=3, padding=1)\n",
    "        self.conv3 = None\n",
    "        if use_1x1conv:\n",
    "            self.conv3 = nn.Conv2D(num_channels, kernel_size=1, strides=strides)\n",
    "        self.bn1 = nn.BatchNorm()\n",
    "        self.bn2 = nn.BatchNorm()\n",
    "\n",
    "    def forward(self, X):\n",
    "        Y = nd.relu(self.bn1(self.conv1(X)))\n",
    "        Y = self.bn2(self.conv2(Y))\n",
    "        if self.conv3:\n",
    "            X = self.conv3(X)\n",
    "        return nd.relu(Y + X)\n",
    "\n",
    "    \n",
    "def resnet_block(num_channels, num_residuals, first_block=False):\n",
    "    blk = nn.Sequential()\n",
    "    for i in range(num_residuals):\n",
    "        if i == 0 and not first_block:\n",
    "            blk.add(Residual(num_channels, use_1x1conv=True, strides=2))\n",
    "        else:\n",
    "            blk.add(Residual(num_channels))\n",
    "    return blk"
   ]
  },
  {
   "cell_type": "code",
   "execution_count": 112,
   "metadata": {},
   "outputs": [
    {
     "data": {
      "text/plain": [
       "True"
      ]
     },
     "execution_count": 112,
     "metadata": {},
     "output_type": "execute_result"
    }
   ],
   "source": [
    "res_block = Residual(3)\n",
    "res_block.initialize()\n",
    "X = nd.random.uniform(shape=(4, 3, 6, 6))\n",
    "res_block(X).shape == X.shape"
   ]
  },
  {
   "cell_type": "code",
   "execution_count": 113,
   "metadata": {},
   "outputs": [
    {
     "data": {
      "text/plain": [
       "(4, 6, 3, 3)"
      ]
     },
     "execution_count": 113,
     "metadata": {},
     "output_type": "execute_result"
    }
   ],
   "source": [
    "# 增加输出通道数, 并且减半宽和高, 使用1x1卷积层resize\n",
    "res_block = Residual(6, use_1x1conv=True, strides=2)\n",
    "res_block.initialize()\n",
    "res_block(X).shape"
   ]
  },
  {
   "cell_type": "code",
   "execution_count": 114,
   "metadata": {},
   "outputs": [],
   "source": [
    "# ResNet模型\n",
    "res_net = nn.Sequential()\n",
    "res_net.add(\n",
    "    nn.Conv2D(64, kernel_size=7, strides=2, padding=3),\n",
    "    nn.BatchNorm(), \n",
    "    nn.Activation('relu'),\n",
    "    nn.MaxPool2D(pool_size=3, strides=2, padding=1),\n",
    "    resnet_block(64, 2, first_block=True),\n",
    "    resnet_block(128, 2),\n",
    "    resnet_block(256, 2),\n",
    "    resnet_block(512, 2),\n",
    "    nn.GlobalAvgPool2D(),  # 全局平均层\n",
    "    nn.Dense(10)\n",
    ")"
   ]
  },
  {
   "cell_type": "code",
   "execution_count": null,
   "metadata": {},
   "outputs": [],
   "source": [
    "lr, num_epochs, batch_size = 0.05, 5, 256\n",
    "res_net.initialize(force_reinit=True, ctx=context, init=init.Xavier())\n",
    "trainer = gluon.Trainer(res_net.collect_params(), 'sgd', {'learning_rate': lr})\n",
    "train_iter, test_iter = d2l.load_data_fashion_mnist(batch_size, resize=96)\n",
    "train_cnn(res_net, train_iter, test_iter, batch_size, trainer, context, num_epochs)"
   ]
  },
  {
   "cell_type": "code",
   "execution_count": 116,
   "metadata": {},
   "outputs": [],
   "source": [
    "# 稠密连接网络\n",
    "def conv_block(num_channels):\n",
    "    \"\"\"\n",
    "    改良版的 \"卷积 + BN + 激活\"\n",
    "    \"\"\"\n",
    "    blk = nn.Sequential()\n",
    "    blk.add(nn.BatchNorm(), nn.Activation('relu'),\n",
    "            nn.Conv2D(num_channels, kernel_size=3, padding=1))\n",
    "    return blk\n",
    "\n",
    "\n",
    "class DenseBlock(nn.Block):\n",
    "    \"\"\"\n",
    "    稠密块\n",
    "    \"\"\"\n",
    "    def __init__(self, num_convs, num_channels, **kwargs):\n",
    "        super(DenseBlock, self).__init__(**kwargs)\n",
    "        self.net = nn.Sequential()\n",
    "        for _ in range(num_convs):\n",
    "            self.net.add(conv_block(num_channels))\n",
    "\n",
    "    def forward(self, X):\n",
    "        for blk in self.net:\n",
    "            Y = blk(X)\n",
    "            X = nd.concat(X, Y, dim=1)  # 在通道维上将输入和输出连结\n",
    "        return X\n",
    "\n",
    "    \n",
    "def transition_block(num_channels):\n",
    "    \"\"\"\n",
    "    过渡层\n",
    "    \"\"\"\n",
    "    blk = nn.Sequential()\n",
    "    blk.add(nn.BatchNorm(), nn.Activation('relu'),\n",
    "            nn.Conv2D(num_channels, kernel_size=1),\n",
    "            nn.AvgPool2D(pool_size=2, strides=2))\n",
    "    return blk\n"
   ]
  },
  {
   "cell_type": "code",
   "execution_count": 117,
   "metadata": {},
   "outputs": [
    {
     "data": {
      "text/plain": [
       "(4, 23, 8, 8)"
      ]
     },
     "execution_count": 117,
     "metadata": {},
     "output_type": "execute_result"
    }
   ],
   "source": [
    "dense_block = DenseBlock(2, 10)\n",
    "dense_block.initialize()\n",
    "X = nd.random.uniform(shape=(4, 3, 8, 8))\n",
    "Y = dense_block(X)\n",
    "Y.shape"
   ]
  },
  {
   "cell_type": "code",
   "execution_count": 118,
   "metadata": {},
   "outputs": [
    {
     "data": {
      "text/plain": [
       "(4, 10, 4, 4)"
      ]
     },
     "execution_count": 118,
     "metadata": {},
     "output_type": "execute_result"
    }
   ],
   "source": [
    "tran_block = transition_block(10)\n",
    "tran_block.initialize()\n",
    "tran_block(Y).shape"
   ]
  },
  {
   "cell_type": "code",
   "execution_count": 119,
   "metadata": {},
   "outputs": [],
   "source": [
    "num_channels, growth_rate = 64, 32  # num_channels为当前的通道数\n",
    "num_convs_in_dense_blocks = [4, 4, 4, 4]\n",
    "\n",
    "dense_net = nn.Sequential()\n",
    "dense_net.add(\n",
    "    nn.Conv2D(64, kernel_size=7, strides=2, padding=3),\n",
    "    nn.BatchNorm(), \n",
    "    nn.Activation('relu'),\n",
    "    nn.MaxPool2D(pool_size=3, strides=2, padding=1)\n",
    ")\n",
    "for i, num_convs in enumerate(num_convs_in_dense_blocks):\n",
    "    dense_net.add(DenseBlock(num_convs, growth_rate))\n",
    "    # 上一个稠密块的输出通道数\n",
    "    num_channels += num_convs * growth_rate\n",
    "    # 在稠密块之间加入通道数减半的过渡层\n",
    "    if i != len(num_convs_in_dense_blocks) - 1:\n",
    "        num_channels //= 2\n",
    "        dense_net.add(transition_block(num_channels))\n",
    "dense_net.add(\n",
    "    nn.BatchNorm(), \n",
    "    nn.Activation('relu'), \n",
    "    nn.GlobalAvgPool2D(),\n",
    "    nn.Dense(10)\n",
    ")"
   ]
  },
  {
   "cell_type": "code",
   "execution_count": null,
   "metadata": {},
   "outputs": [],
   "source": [
    "lr, num_epochs, batch_size = 0.1, 5, 256\n",
    "dense_net.initialize(ctx=context, init=init.Xavier())\n",
    "trainer = gluon.Trainer(dense_net.collect_params(), 'sgd', {'learning_rate': lr})\n",
    "train_iter, test_iter = load_data_fashion_mnist(batch_size, resize=96)\n",
    "train_cnn(dense_net, train_iter, test_iter, batch_size, trainer, context, num_epochs)"
   ]
  },
  {
   "cell_type": "markdown",
   "metadata": {},
   "source": [
    "### 练习\n",
    "1. 尝试基于LeNet构造更复杂的网络来提高分类准确率:\n",
    "    - 调整卷积窗口大小\n",
    "    - 输出通道数\n",
    "    - 激活函数和全连接层输出个数\n",
    "    - 在优化方面:\n",
    "        - 尝试不同的学习率、\n",
    "        - 初始化方法\n",
    "        - 增加迭代周期\n",
    "2. 尝试增加迭代周期。跟LeNet的结果相比，AlexNet的结果有什么区别？为什么？\n",
    "    - Mac跑不动\n",
    "3. AlexNet对Fashion-MNIST数据集来说可能过于复杂。试着简化模型来使训练更快，同时保证准确率不明显下降\n",
    "4. 修改批量大小, 观察准确率和内存或显存的变化\n",
    "5. 为什么NiN块里要有两个 1×1 卷积层？去除其中的一个，观察并分析实验现象\n",
    "6. 对比AlexNet、VGG和NiN、GoogLeNet的模型参数尺寸。为什么后两个网络可以显著减小模型参数尺寸？\n",
    "7. GoogLeNet有数个后续版本。尝试实现并运行它们，然后观察实验结果。后续版本:\n",
    "    - 加入批量归一化层\n",
    "    - 对Inception块做调整\n",
    "    - 加入残差连接\n",
    "8. 能否将批量归一化前的 全连接层/卷积层中的bias参数去掉? 为什么?\n",
    "    - 去掉bias, 会导致 均值减少bias, 方差不变\n",
    "9. 和LeNet 相比, 加了BN是不是可以调大learning rate?\n",
    "10. 尝试将BN层加到LeNet的其他地方, 看看有什么变化\n",
    "11. 如果不学习拉伸参数和偏移参数, 传参`grad_req='null'`可以避免计算梯度, 结果有什么变化?\n",
    "12. 如何在训练时使用基于全局平均的均值和方差?\n",
    "13. 对于比较深的网络， ResNet论文中介绍了一个“瓶颈”架构来降低模型复杂度。尝试实现它.\n",
    "14. 在ResNet的后续版本里，作者将残差块里的“卷积、批量归一化和激活”结构改成了“批量归一化、激活和卷积”，实现这个改进.\n",
    "15. DenseNet论文中提到的一个优点是模型参数比ResNet的更小，这是为什么 ?\n",
    "16. DenseNet被人诟病的一个问题是内存或显存消耗过多。真的会这样吗？可以把输入形状换成 224×224 ，来看看实际的消耗。\n",
    "17. 实现DenseNet论文中的表1提出的不同版本的DenseNet."
   ]
  }
 ],
 "metadata": {
  "kernelspec": {
   "display_name": "Python 3",
   "language": "python",
   "name": "python3"
  },
  "language_info": {
   "codemirror_mode": {
    "name": "ipython",
    "version": 3
   },
   "file_extension": ".py",
   "mimetype": "text/x-python",
   "name": "python",
   "nbconvert_exporter": "python",
   "pygments_lexer": "ipython3",
   "version": "3.7.4"
  }
 },
 "nbformat": 4,
 "nbformat_minor": 2
}
