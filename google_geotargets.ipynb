{
 "cells": [
  {
   "cell_type": "code",
   "execution_count": 29,
   "metadata": {},
   "outputs": [],
   "source": [
    "import csv\n",
    "import requests\n",
    "import numpy as np\n",
    "import pandas as pd\n",
    "from io import StringIO"
   ]
  },
  {
   "cell_type": "code",
   "execution_count": 30,
   "metadata": {},
   "outputs": [],
   "source": [
    "na_values = \"\"\n",
    "column_types = {\n",
    "    \"Criteria ID\": np.int32, \"Name\": str, \"Canonical Name\": str, \"Parent ID\": str, \n",
    "    \"Country Code\": str, \"Target Type\": str, \"status\": str\n",
    "}\n",
    "response = requests.get(\"https://developers.google.com/adwords/api/docs/appendix/geo/geotargets-2019-08-14.csv\")\n",
    "csv_file = StringIO(response.content.decode(\"utf-8\"))\n",
    "geo_targets = pd.read_csv(csv_file, sep=\",\", na_values=na_values, dtype=column_types)"
   ]
  },
  {
   "cell_type": "code",
   "execution_count": 31,
   "metadata": {},
   "outputs": [
    {
     "data": {
      "text/plain": [
       "(102029, 7)"
      ]
     },
     "execution_count": 31,
     "metadata": {},
     "output_type": "execute_result"
    }
   ],
   "source": [
    "geo_targets.shape"
   ]
  },
  {
   "cell_type": "code",
   "execution_count": 32,
   "metadata": {},
   "outputs": [],
   "source": [
    "# 处理 缺失值, 用 0 填充\n",
    "geo_targets['Parent ID'] = geo_targets['Parent ID'].apply(lambda x: int(x) if not isinstance(x, float) else 0).astype(np.int32)"
   ]
  },
  {
   "cell_type": "code",
   "execution_count": 33,
   "metadata": {},
   "outputs": [
    {
     "data": {
      "text/html": [
       "<div>\n",
       "<style scoped>\n",
       "    .dataframe tbody tr th:only-of-type {\n",
       "        vertical-align: middle;\n",
       "    }\n",
       "\n",
       "    .dataframe tbody tr th {\n",
       "        vertical-align: top;\n",
       "    }\n",
       "\n",
       "    .dataframe thead th {\n",
       "        text-align: right;\n",
       "    }\n",
       "</style>\n",
       "<table border=\"1\" class=\"dataframe\">\n",
       "  <thead>\n",
       "    <tr style=\"text-align: right;\">\n",
       "      <th></th>\n",
       "      <th>Criteria ID</th>\n",
       "      <th>Name</th>\n",
       "      <th>Canonical Name</th>\n",
       "      <th>Parent ID</th>\n",
       "      <th>Country Code</th>\n",
       "      <th>Target Type</th>\n",
       "      <th>Status</th>\n",
       "    </tr>\n",
       "  </thead>\n",
       "  <tbody>\n",
       "    <tr>\n",
       "      <td>0</td>\n",
       "      <td>1000002</td>\n",
       "      <td>Kabul</td>\n",
       "      <td>Kabul,Kabul,Afghanistan</td>\n",
       "      <td>9075393</td>\n",
       "      <td>AF</td>\n",
       "      <td>City</td>\n",
       "      <td>Active</td>\n",
       "    </tr>\n",
       "    <tr>\n",
       "      <td>1</td>\n",
       "      <td>1000003</td>\n",
       "      <td>Luanda</td>\n",
       "      <td>Luanda,Luanda Province,Angola</td>\n",
       "      <td>9070431</td>\n",
       "      <td>AO</td>\n",
       "      <td>City</td>\n",
       "      <td>Active</td>\n",
       "    </tr>\n",
       "    <tr>\n",
       "      <td>2</td>\n",
       "      <td>1000004</td>\n",
       "      <td>The Valley</td>\n",
       "      <td>The Valley,Anguilla</td>\n",
       "      <td>2660</td>\n",
       "      <td>AI</td>\n",
       "      <td>City</td>\n",
       "      <td>Active</td>\n",
       "    </tr>\n",
       "    <tr>\n",
       "      <td>3</td>\n",
       "      <td>1000010</td>\n",
       "      <td>Abu Dhabi</td>\n",
       "      <td>Abu Dhabi,Abu Dhabi,United Arab Emirates</td>\n",
       "      <td>9041082</td>\n",
       "      <td>AE</td>\n",
       "      <td>City</td>\n",
       "      <td>Active</td>\n",
       "    </tr>\n",
       "    <tr>\n",
       "      <td>4</td>\n",
       "      <td>1000011</td>\n",
       "      <td>Ajman</td>\n",
       "      <td>Ajman,Ajman,United Arab Emirates</td>\n",
       "      <td>9047096</td>\n",
       "      <td>AE</td>\n",
       "      <td>City</td>\n",
       "      <td>Active</td>\n",
       "    </tr>\n",
       "  </tbody>\n",
       "</table>\n",
       "</div>"
      ],
      "text/plain": [
       "   Criteria ID        Name                            Canonical Name  \\\n",
       "0      1000002       Kabul                   Kabul,Kabul,Afghanistan   \n",
       "1      1000003      Luanda             Luanda,Luanda Province,Angola   \n",
       "2      1000004  The Valley                       The Valley,Anguilla   \n",
       "3      1000010   Abu Dhabi  Abu Dhabi,Abu Dhabi,United Arab Emirates   \n",
       "4      1000011       Ajman          Ajman,Ajman,United Arab Emirates   \n",
       "\n",
       "   Parent ID Country Code Target Type  Status  \n",
       "0    9075393           AF        City  Active  \n",
       "1    9070431           AO        City  Active  \n",
       "2       2660           AI        City  Active  \n",
       "3    9041082           AE        City  Active  \n",
       "4    9047096           AE        City  Active  "
      ]
     },
     "execution_count": 33,
     "metadata": {},
     "output_type": "execute_result"
    }
   ],
   "source": [
    "geo_targets.head()"
   ]
  },
  {
   "cell_type": "code",
   "execution_count": 34,
   "metadata": {},
   "outputs": [],
   "source": [
    "# filter country\n",
    "geo_country = geo_targets[geo_targets['Parent ID'] == 0]"
   ]
  },
  {
   "cell_type": "code",
   "execution_count": 35,
   "metadata": {},
   "outputs": [
    {
     "data": {
      "text/plain": [
       "Criteria ID        int32\n",
       "Name              object\n",
       "Canonical Name    object\n",
       "Parent ID          int32\n",
       "Country Code      object\n",
       "Target Type       object\n",
       "Status            object\n",
       "dtype: object"
      ]
     },
     "execution_count": 35,
     "metadata": {},
     "output_type": "execute_result"
    }
   ],
   "source": [
    "geo_country.dtypes"
   ]
  },
  {
   "cell_type": "code",
   "execution_count": 36,
   "metadata": {},
   "outputs": [
    {
     "name": "stdout",
     "output_type": "stream",
     "text": [
      "<class 'pandas.core.frame.DataFrame'>\n",
      "RangeIndex: 102029 entries, 0 to 102028\n",
      "Data columns (total 7 columns):\n",
      "Criteria ID       102029 non-null int32\n",
      "Name              102029 non-null object\n",
      "Canonical Name    102029 non-null object\n",
      "Parent ID         102029 non-null int32\n",
      "Country Code      102013 non-null object\n",
      "Target Type       102029 non-null object\n",
      "Status            102029 non-null object\n",
      "dtypes: int32(2), object(5)\n",
      "memory usage: 33.8 MB\n"
     ]
    }
   ],
   "source": [
    "# 查看占用内存\n",
    "geo_targets.info(memory_usage='deep')"
   ]
  },
  {
   "cell_type": "code",
   "execution_count": 18,
   "metadata": {},
   "outputs": [
    {
     "name": "stdout",
     "output_type": "stream",
     "text": [
      "Average memory usage for object columns: 5.49675 MB\n",
      "Average memory usage for int columns: 0.00012 MB\n"
     ]
    }
   ],
   "source": [
    "# 查看 平均每个数据类型的大小\n",
    "for dtype in ['object','int']:\n",
    "    selected_dtype = geo_targets.select_dtypes(include=[dtype])\n",
    "    mean_usage_b = selected_dtype.memory_usage(deep=True).mean()\n",
    "    mean_usage_mb = mean_usage_b / 1024 ** 2\n",
    "    print(\"Average memory usage for {} columns: {:03.5f} MB\".format(dtype, mean_usage_mb))"
   ]
  },
  {
   "cell_type": "code",
   "execution_count": 10,
   "metadata": {},
   "outputs": [
    {
     "data": {
      "text/plain": [
       "9100164"
      ]
     },
     "execution_count": 10,
     "metadata": {},
     "output_type": "execute_result"
    }
   ],
   "source": [
    "max(geo_targets['Criteria ID'])  # 看来得用int32"
   ]
  },
  {
   "cell_type": "code",
   "execution_count": 11,
   "metadata": {},
   "outputs": [
    {
     "name": "stdout",
     "output_type": "stream",
     "text": [
      "Machine parameters for uint8\n",
      "---------------------------------------------------------------\n",
      "min = 0\n",
      "max = 255\n",
      "---------------------------------------------------------------\n",
      "\n",
      "Machine parameters for int8\n",
      "---------------------------------------------------------------\n",
      "min = -128\n",
      "max = 127\n",
      "---------------------------------------------------------------\n",
      "\n",
      "Machine parameters for int16\n",
      "---------------------------------------------------------------\n",
      "min = -32768\n",
      "max = 32767\n",
      "---------------------------------------------------------------\n",
      "\n",
      "Machine parameters for int32\n",
      "---------------------------------------------------------------\n",
      "min = -2147483648\n",
      "max = 2147483647\n",
      "---------------------------------------------------------------\n",
      "\n"
     ]
    }
   ],
   "source": [
    "int_types = [\"uint8\", \"int8\", \"int16\", \"int32\"]\n",
    "for it in int_types:\n",
    "    print(np.iinfo(it))"
   ]
  },
  {
   "cell_type": "code",
   "execution_count": 19,
   "metadata": {},
   "outputs": [
    {
     "data": {
      "text/plain": [
       "count     102013\n",
       "unique       239\n",
       "top           US\n",
       "freq       55422\n",
       "Name: Country Code, dtype: object"
      ]
     },
     "execution_count": 19,
     "metadata": {},
     "output_type": "execute_result"
    }
   ],
   "source": [
    "geo_targets['Country Code'].describe()"
   ]
  },
  {
   "cell_type": "code",
   "execution_count": 25,
   "metadata": {},
   "outputs": [
    {
     "data": {
      "text/plain": [
       "count     102029\n",
       "unique         2\n",
       "top       Active\n",
       "freq      102026\n",
       "Name: Status, dtype: object"
      ]
     },
     "execution_count": 25,
     "metadata": {},
     "output_type": "execute_result"
    }
   ],
   "source": [
    "geo_targets['Status'].describe()"
   ]
  },
  {
   "cell_type": "code",
   "execution_count": 20,
   "metadata": {},
   "outputs": [],
   "source": [
    "country_code_category = geo_targets['Country Code'].astype('category')"
   ]
  },
  {
   "cell_type": "code",
   "execution_count": 23,
   "metadata": {},
   "outputs": [
    {
     "data": {
      "text/plain": [
       "0           2\n",
       "1           7\n",
       "2           4\n",
       "3           1\n",
       "4           1\n",
       "         ... \n",
       "102024    170\n",
       "102025    170\n",
       "102026    221\n",
       "102027    221\n",
       "102028     64\n",
       "Length: 102029, dtype: int16"
      ]
     },
     "execution_count": 23,
     "metadata": {},
     "output_type": "execute_result"
    }
   ],
   "source": [
    "country_code_category.cat.codes"
   ]
  },
  {
   "cell_type": "code",
   "execution_count": 24,
   "metadata": {},
   "outputs": [
    {
     "name": "stdout",
     "output_type": "stream",
     "text": [
      "Categorical column:  Parent ID\n",
      "Categorical column:  Country Code\n",
      "Categorical column:  Target Type\n",
      "Categorical column:  Status\n"
     ]
    }
   ],
   "source": [
    "# 将枚举的变量转为 categorical\n",
    "catagorical_geo_targets = pd.DataFrame()\n",
    "for col in geo_targets.columns:\n",
    "    num_unique_values = len(geo_targets[col].unique())\n",
    "    num_total_values = len(geo_targets[col])\n",
    "    if num_unique_values / num_total_values < 0.5:\n",
    "        print(\"Categorical column: \", col)\n",
    "        catagorical_geo_targets.loc[:,col] = geo_targets[col].astype('category')\n",
    "    else:\n",
    "        catagorical_geo_targets.loc[:,col] = geo_targets[col]"
   ]
  },
  {
   "cell_type": "code",
   "execution_count": 28,
   "metadata": {},
   "outputs": [
    {
     "name": "stdout",
     "output_type": "stream",
     "text": [
      "<class 'pandas.core.frame.DataFrame'>\n",
      "RangeIndex: 102029 entries, 0 to 102028\n",
      "Data columns (total 7 columns):\n",
      "Criteria ID       102029 non-null int32\n",
      "Name              102029 non-null object\n",
      "Canonical Name    102029 non-null object\n",
      "Parent ID         102029 non-null category\n",
      "Country Code      102013 non-null category\n",
      "Target Type       102029 non-null category\n",
      "Status            102029 non-null category\n",
      "dtypes: category(4), int32(1), object(2)\n",
      "memory usage: 15.9 MB\n"
     ]
    }
   ],
   "source": [
    "catagorical_geo_targets.info(memory_usage='deep')"
   ]
  },
  {
   "cell_type": "code",
   "execution_count": 40,
   "metadata": {},
   "outputs": [],
   "source": [
    "china_geo = catagorical_geo_targets[catagorical_geo_targets['Country Code'] == 'CN']\n",
    "america_geo = catagorical_geo_targets[catagorical_geo_targets['Country Code'] == 'US']"
   ]
  },
  {
   "cell_type": "code",
   "execution_count": 43,
   "metadata": {},
   "outputs": [
    {
     "data": {
      "text/html": [
       "<div>\n",
       "<style scoped>\n",
       "    .dataframe tbody tr th:only-of-type {\n",
       "        vertical-align: middle;\n",
       "    }\n",
       "\n",
       "    .dataframe tbody tr th {\n",
       "        vertical-align: top;\n",
       "    }\n",
       "\n",
       "    .dataframe thead th {\n",
       "        text-align: right;\n",
       "    }\n",
       "</style>\n",
       "<table border=\"1\" class=\"dataframe\">\n",
       "  <thead>\n",
       "    <tr style=\"text-align: right;\">\n",
       "      <th></th>\n",
       "      <th>Criteria ID</th>\n",
       "      <th>Name</th>\n",
       "      <th>Canonical Name</th>\n",
       "      <th>Parent ID</th>\n",
       "      <th>Country Code</th>\n",
       "      <th>Target Type</th>\n",
       "      <th>Status</th>\n",
       "    </tr>\n",
       "  </thead>\n",
       "  <tbody>\n",
       "    <tr>\n",
       "      <td>2477</td>\n",
       "      <td>1003334</td>\n",
       "      <td>Beijing</td>\n",
       "      <td>Beijing,Beijing,China</td>\n",
       "      <td>20163</td>\n",
       "      <td>CN</td>\n",
       "      <td>City</td>\n",
       "      <td>Active</td>\n",
       "    </tr>\n",
       "    <tr>\n",
       "      <td>2478</td>\n",
       "      <td>1003338</td>\n",
       "      <td>Tianjin</td>\n",
       "      <td>Tianjin,Tianjin,China</td>\n",
       "      <td>20164</td>\n",
       "      <td>CN</td>\n",
       "      <td>City</td>\n",
       "      <td>Active</td>\n",
       "    </tr>\n",
       "    <tr>\n",
       "      <td>2479</td>\n",
       "      <td>1003339</td>\n",
       "      <td>Chengde</td>\n",
       "      <td>Chengde,Hebei,China</td>\n",
       "      <td>20165</td>\n",
       "      <td>CN</td>\n",
       "      <td>City</td>\n",
       "      <td>Active</td>\n",
       "    </tr>\n",
       "    <tr>\n",
       "      <td>2480</td>\n",
       "      <td>1003341</td>\n",
       "      <td>Handan</td>\n",
       "      <td>Handan,Hebei,China</td>\n",
       "      <td>20165</td>\n",
       "      <td>CN</td>\n",
       "      <td>City</td>\n",
       "      <td>Active</td>\n",
       "    </tr>\n",
       "    <tr>\n",
       "      <td>2481</td>\n",
       "      <td>1003342</td>\n",
       "      <td>Hengshui</td>\n",
       "      <td>Hengshui,Hebei,China</td>\n",
       "      <td>20165</td>\n",
       "      <td>CN</td>\n",
       "      <td>City</td>\n",
       "      <td>Active</td>\n",
       "    </tr>\n",
       "  </tbody>\n",
       "</table>\n",
       "</div>"
      ],
      "text/plain": [
       "      Criteria ID      Name         Canonical Name Parent ID Country Code  \\\n",
       "2477      1003334   Beijing  Beijing,Beijing,China     20163           CN   \n",
       "2478      1003338   Tianjin  Tianjin,Tianjin,China     20164           CN   \n",
       "2479      1003339   Chengde    Chengde,Hebei,China     20165           CN   \n",
       "2480      1003341    Handan     Handan,Hebei,China     20165           CN   \n",
       "2481      1003342  Hengshui   Hengshui,Hebei,China     20165           CN   \n",
       "\n",
       "     Target Type  Status  \n",
       "2477        City  Active  \n",
       "2478        City  Active  \n",
       "2479        City  Active  \n",
       "2480        City  Active  \n",
       "2481        City  Active  "
      ]
     },
     "execution_count": 43,
     "metadata": {},
     "output_type": "execute_result"
    }
   ],
   "source": [
    "china_geo.head()"
   ]
  },
  {
   "cell_type": "code",
   "execution_count": 44,
   "metadata": {},
   "outputs": [
    {
     "data": {
      "text/html": [
       "<div>\n",
       "<style scoped>\n",
       "    .dataframe tbody tr th:only-of-type {\n",
       "        vertical-align: middle;\n",
       "    }\n",
       "\n",
       "    .dataframe tbody tr th {\n",
       "        vertical-align: top;\n",
       "    }\n",
       "\n",
       "    .dataframe thead th {\n",
       "        text-align: right;\n",
       "    }\n",
       "</style>\n",
       "<table border=\"1\" class=\"dataframe\">\n",
       "  <thead>\n",
       "    <tr style=\"text-align: right;\">\n",
       "      <th></th>\n",
       "      <th>Criteria ID</th>\n",
       "      <th>Name</th>\n",
       "      <th>Canonical Name</th>\n",
       "      <th>Parent ID</th>\n",
       "      <th>Country Code</th>\n",
       "      <th>Target Type</th>\n",
       "      <th>Status</th>\n",
       "    </tr>\n",
       "  </thead>\n",
       "  <tbody>\n",
       "    <tr>\n",
       "      <td>10598</td>\n",
       "      <td>1012873</td>\n",
       "      <td>Anchorage</td>\n",
       "      <td>Anchorage,Anchorage,Alaska,United States</td>\n",
       "      <td>21132</td>\n",
       "      <td>US</td>\n",
       "      <td>City</td>\n",
       "      <td>Active</td>\n",
       "    </tr>\n",
       "    <tr>\n",
       "      <td>10599</td>\n",
       "      <td>1012874</td>\n",
       "      <td>Anderson</td>\n",
       "      <td>Anderson,Alaska,United States</td>\n",
       "      <td>21132</td>\n",
       "      <td>US</td>\n",
       "      <td>City</td>\n",
       "      <td>Active</td>\n",
       "    </tr>\n",
       "    <tr>\n",
       "      <td>10600</td>\n",
       "      <td>1012875</td>\n",
       "      <td>Angoon</td>\n",
       "      <td>Angoon,Alaska,United States</td>\n",
       "      <td>21132</td>\n",
       "      <td>US</td>\n",
       "      <td>City</td>\n",
       "      <td>Active</td>\n",
       "    </tr>\n",
       "    <tr>\n",
       "      <td>10601</td>\n",
       "      <td>1012876</td>\n",
       "      <td>Atqasuk</td>\n",
       "      <td>Atqasuk,Alaska,United States</td>\n",
       "      <td>21132</td>\n",
       "      <td>US</td>\n",
       "      <td>City</td>\n",
       "      <td>Active</td>\n",
       "    </tr>\n",
       "    <tr>\n",
       "      <td>10602</td>\n",
       "      <td>1012877</td>\n",
       "      <td>Utqiagvik</td>\n",
       "      <td>Utqiagvik,Alaska,United States</td>\n",
       "      <td>21132</td>\n",
       "      <td>US</td>\n",
       "      <td>City</td>\n",
       "      <td>Active</td>\n",
       "    </tr>\n",
       "  </tbody>\n",
       "</table>\n",
       "</div>"
      ],
      "text/plain": [
       "       Criteria ID       Name                            Canonical Name  \\\n",
       "10598      1012873  Anchorage  Anchorage,Anchorage,Alaska,United States   \n",
       "10599      1012874   Anderson             Anderson,Alaska,United States   \n",
       "10600      1012875     Angoon               Angoon,Alaska,United States   \n",
       "10601      1012876    Atqasuk              Atqasuk,Alaska,United States   \n",
       "10602      1012877  Utqiagvik            Utqiagvik,Alaska,United States   \n",
       "\n",
       "      Parent ID Country Code Target Type  Status  \n",
       "10598     21132           US        City  Active  \n",
       "10599     21132           US        City  Active  \n",
       "10600     21132           US        City  Active  \n",
       "10601     21132           US        City  Active  \n",
       "10602     21132           US        City  Active  "
      ]
     },
     "execution_count": 44,
     "metadata": {},
     "output_type": "execute_result"
    }
   ],
   "source": [
    "america_geo.head()"
   ]
  },
  {
   "cell_type": "code",
   "execution_count": null,
   "metadata": {},
   "outputs": [],
   "source": []
  }
 ],
 "metadata": {
  "kernelspec": {
   "display_name": "Python 3",
   "language": "python",
   "name": "python3"
  },
  "language_info": {
   "codemirror_mode": {
    "name": "ipython",
    "version": 3
   },
   "file_extension": ".py",
   "mimetype": "text/x-python",
   "name": "python",
   "nbconvert_exporter": "python",
   "pygments_lexer": "ipython3",
   "version": "3.7.4"
  }
 },
 "nbformat": 4,
 "nbformat_minor": 2
}
