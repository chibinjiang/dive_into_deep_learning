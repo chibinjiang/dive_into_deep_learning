{
 "cells": [
  {
   "cell_type": "markdown",
   "metadata": {},
   "source": [
    "## 深度学习 开发与 运行的方法论: \n",
    "### 在本地环境开发\n",
    "### 在colab准备运行环境\n",
    "- 挂在 Google Drive 到 colab runtime的目录中\n",
    "- 如果仓库已经存在, pull 最新的代码\n",
    "- 如果仓库尚不存在, 使用Github上的 personal token 将仓库clone到 drive上\n",
    "\n",
    "### 在colab运行项目\n",
    "- 在 Google Drive中打开 ipynb 文件\n",
    "- 如果需要在 GPU环境运行, 则需要在 `Runtime` > `Change runtime` > `Hardware accelerator`中选择GPU\n",
    "- `Run All`\n",
    "### 将执行结果Push回 Github\n",
    "- 使用 git 命令提交修改\n",
    "\n",
    "### Reference:\n",
    "- [Google Drive + Google Colab + GitHub; Don’t Just Read, Do It!](https://towardsdatascience.com/google-drive-google-colab-github-dont-just-read-do-it-5554d5824228)\n"
   ]
  },
  {
   "cell_type": "code",
   "execution_count": 2,
   "metadata": {},
   "outputs": [],
   "source": [
    "import os\n",
    "from google.colab import drive"
   ]
  },
  {
   "cell_type": "code",
   "execution_count": null,
   "metadata": {},
   "outputs": [],
   "source": [
    "gd_path = '/content/drive'\n",
    "drive.mount(gd_path)"
   ]
  },
  {
   "cell_type": "code",
   "execution_count": null,
   "metadata": {},
   "outputs": [],
   "source": [
    "%cd '{pg_path}/My Drive/Colab Notebooks'"
   ]
  },
  {
   "cell_type": "code",
   "execution_count": null,
   "metadata": {},
   "outputs": [],
   "source": [
    "git_username = 'chibinjiang'\n",
    "git_email = 'jiangzhibin2014.xujie@gmail.com'\n",
    "git_token = '{Something really very Secret}'\n",
    "git_repo = 'dive_into_deep_learning'\n",
    "git_path = \"https://\" + git_token + \"@github.com/\" + git_username + \"/\" + git_repo + \".git\"\n",
    "print(git_path)"
   ]
  },
  {
   "cell_type": "code",
   "execution_count": null,
   "metadata": {},
   "outputs": [],
   "source": [
    "! git config --global user.email \"{git_email}\"\n",
    "! git config --global user.name \"{git_username}\"\n",
    "if git_repo in os.listdir('.'):\n",
    "    %cd '{git_repo}'\n",
    "    ! git pull\n",
    "else:\n",
    "    ! git clone \"{git_path}\" # clone the github repository\n",
    "    %cd '{git_repo}'"
   ]
  },
  {
   "cell_type": "code",
   "execution_count": null,
   "metadata": {},
   "outputs": [],
   "source": [
    "# 安装依赖包\n",
    "! pip install mxnet-cu101mkl"
   ]
  },
  {
   "cell_type": "code",
   "execution_count": 3,
   "metadata": {},
   "outputs": [
    {
     "name": "stdout",
     "output_type": "stream",
     "text": [
      "On branch master\r\n",
      "Your branch is up to date with 'origin/master'.\r\n",
      "\r\n",
      "Changes not staged for commit:\r\n",
      "  (use \"git add <file>...\" to update what will be committed)\r\n",
      "  (use \"git checkout -- <file>...\" to discard changes in working directory)\r\n",
      "\r\n",
      "\t\u001b[31mmodified:   colab_prepare.ipynb\u001b[m\r\n",
      "\r\n",
      "no changes added to commit (use \"git add\" and/or \"git commit -a\")\r\n"
     ]
    }
   ],
   "source": [
    "! git status"
   ]
  },
  {
   "cell_type": "code",
   "execution_count": null,
   "metadata": {},
   "outputs": [],
   "source": [
    "# 将 线上跑完的 结果 上传回 github\n",
    "! git config --global user.email \"jiangzhibin2014.xujie@gmail.com\"\n",
    "! git config --global user.name \"chibinjiang\"\n",
    "! git add -A\n",
    "! git commit -m 'run in colab'\n",
    "! git push origin master"
   ]
  }
 ],
 "metadata": {
  "kernelspec": {
   "display_name": "Python 3",
   "language": "python",
   "name": "python3"
  },
  "language_info": {
   "codemirror_mode": {
    "name": "ipython",
    "version": 3
   },
   "file_extension": ".py",
   "mimetype": "text/x-python",
   "name": "python",
   "nbconvert_exporter": "python",
   "pygments_lexer": "ipython3",
   "version": "3.7.4"
  }
 },
 "nbformat": 4,
 "nbformat_minor": 2
}
