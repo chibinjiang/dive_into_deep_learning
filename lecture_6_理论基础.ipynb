{
 "cells": [
  {
   "cell_type": "markdown",
   "metadata": {},
   "source": [
    "## RNN的理论\n",
    "\n",
    "### 通过时间反向传播\n",
    "\n",
    "### 门控循环单元(GRU)\n",
    "\n",
    "### 长短期记忆(LSTM)\n",
    "\n",
    "### 深度循环神经网络\n",
    "\n",
    "### 双向循环神经网络"
   ]
  }
 ],
 "metadata": {
  "kernelspec": {
   "display_name": "Python 3",
   "language": "python",
   "name": "python3"
  },
  "language_info": {
   "codemirror_mode": {
    "name": "ipython",
    "version": 3
   },
   "file_extension": ".py",
   "mimetype": "text/x-python",
   "name": "python",
   "nbconvert_exporter": "python",
   "pygments_lexer": "ipython3",
   "version": "3.7.4"
  }
 },
 "nbformat": 4,
 "nbformat_minor": 2
}
