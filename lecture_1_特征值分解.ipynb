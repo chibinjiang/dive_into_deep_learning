{
 "cells": [
  {
   "cell_type": "markdown",
   "metadata": {},
   "source": [
    "## 特征值分解\n",
    "### 1. Av = λv\n",
    "- v是A的特征向量, λ是一个特征值\n",
    "\n",
    "### 2. 求矩阵的特征值\n",
    "- 根据 A - λI的行列式等于0, 可以求解 到特征值\n",
    "\n",
    "### 3. 求矩阵的每个特征值对应的特征向量\n",
    "- 根据 Av = λv, 可以求解特征向量\n",
    "\n",
    "### 4. 分解矩阵\n",
    "- A = W∑W^(-1)\n",
    "\n",
    "### 5. 性质:\n",
    "- 连续的A相乘: pow(A, n) = W pow(∑, n) pow(W, -1)\n",
    "- A的逆矩阵: pow(A, -1) = W pow(∑, -1), pow(W, -1)\n",
    "- A的行列式: det(A) = Πλ, 特征值的累积\n",
    "\n",
    "### 6. 其他分解\n",
    "- the Jordan Normal Form\n",
    "- Singlar value decomposition\n",
    "\n",
    "### 7. Gershgorin Circle Theorem\n",
    "- 对于对称矩阵, 有办法可以获取每个特征值的范围: \n",
    "    - Raius[i] = Sum(A[i, :])\n",
    "    - A[i][i] - Radius[i] <= lambda[i] <= A[i][i] + Radius[i]"
   ]
  },
  {
   "cell_type": "code",
   "execution_count": 3,
   "metadata": {},
   "outputs": [],
   "source": [
    "from IPython import display\n",
    "import numpy as np\n",
    "from numpy import linalg\n",
    "%matplotlib inline"
   ]
  },
  {
   "cell_type": "code",
   "execution_count": 7,
   "metadata": {},
   "outputs": [
    {
     "name": "stdout",
     "output_type": "stream",
     "text": [
      "[1. 4.]\n",
      "[[-0.70710678 -0.4472136 ]\n",
      " [ 0.70710678 -0.89442719]]\n"
     ]
    }
   ],
   "source": [
    "# 找特征值\n",
    "A = np.array([[2, 1], [2, 3]])\n",
    "eigen_values, eigen_vectors = linalg.eig(A)\n",
    "print(eigen_values)\n",
    "print(eigen_vectors)"
   ]
  },
  {
   "cell_type": "code",
   "execution_count": 10,
   "metadata": {},
   "outputs": [],
   "source": [
    "np.set_printoptions(suppress=True)"
   ]
  },
  {
   "cell_type": "code",
   "execution_count": 11,
   "metadata": {},
   "outputs": [
    {
     "name": "stdout",
     "output_type": "stream",
     "text": [
      "(array([3., 1.]), array([[ 0.70710678, -0.70710678],\n",
      "       [ 0.70710678,  0.70710678]]))\n"
     ]
    }
   ],
   "source": [
    "m_1 = np.array([[2,1], [1,2]])\n",
    "m_2 = np.array([[2,1], [0,2]])\n",
    "print(linalg.eig(m_1))"
   ]
  },
  {
   "cell_type": "code",
   "execution_count": 12,
   "metadata": {},
   "outputs": [
    {
     "data": {
      "text/plain": [
       "(array([2., 2.]), array([[ 1., -1.],\n",
       "        [ 0.,  0.]]))"
      ]
     },
     "execution_count": 12,
     "metadata": {},
     "output_type": "execute_result"
    }
   ],
   "source": [
    "linalg.eig(m_2)  # 只有一个特征值"
   ]
  },
  {
   "cell_type": "code",
   "execution_count": 14,
   "metadata": {},
   "outputs": [
    {
     "name": "stdout",
     "output_type": "stream",
     "text": [
      "[[1 1 0]\n",
      " [1 2 1]\n",
      " [0 1 1]]\n",
      "[[2 1]\n",
      " [1 2]]\n",
      "[3. 1.]\n"
     ]
    }
   ],
   "source": [
    "# 试试奇异值分解\n",
    "example = np.array([[1,0], [1,1], [0,1]])\n",
    "U = example.dot(example.T) \n",
    "print(U)\n",
    "V = example.T.dot(example)\n",
    "print(V)\n",
    "Sigma = linalg.eigvals(V)\n",
    "print(Sigma)"
   ]
  },
  {
   "cell_type": "code",
   "execution_count": 17,
   "metadata": {},
   "outputs": [],
   "source": [
    "U = linalg.eig(U)[1]"
   ]
  },
  {
   "cell_type": "code",
   "execution_count": 18,
   "metadata": {},
   "outputs": [],
   "source": [
    "V = linalg.eig(V)[1]"
   ]
  },
  {
   "cell_type": "code",
   "execution_count": 24,
   "metadata": {},
   "outputs": [
    {
     "data": {
      "text/plain": [
       "array([[-1.,  0.],\n",
       "       [-1., -1.],\n",
       "       [-0., -1.]])"
      ]
     },
     "execution_count": 24,
     "metadata": {},
     "output_type": "execute_result"
    }
   ],
   "source": [
    "Sigma = np.sqrt(np.array([[3,0], [0,1], [0,0]]))\n",
    "U.dot(Sigma).dot(V.T)"
   ]
  },
  {
   "cell_type": "code",
   "execution_count": 22,
   "metadata": {},
   "outputs": [
    {
     "data": {
      "text/plain": [
       "array([[ 0.70710678, -0.70710678],\n",
       "       [ 0.70710678,  0.70710678]])"
      ]
     },
     "execution_count": 22,
     "metadata": {},
     "output_type": "execute_result"
    }
   ],
   "source": [
    "V"
   ]
  },
  {
   "cell_type": "code",
   "execution_count": 25,
   "metadata": {},
   "outputs": [
    {
     "data": {
      "text/plain": [
       "1.0717734625362931"
      ]
     },
     "execution_count": 25,
     "metadata": {},
     "output_type": "execute_result"
    }
   ],
   "source": [
    "pow(2, 0.1)"
   ]
  },
  {
   "cell_type": "code",
   "execution_count": null,
   "metadata": {},
   "outputs": [],
   "source": []
  }
 ],
 "metadata": {
  "kernelspec": {
   "display_name": "Python 3",
   "language": "python",
   "name": "python3"
  },
  "language_info": {
   "codemirror_mode": {
    "name": "ipython",
    "version": 3
   },
   "file_extension": ".py",
   "mimetype": "text/x-python",
   "name": "python",
   "nbconvert_exporter": "python",
   "pygments_lexer": "ipython3",
   "version": "3.7.4"
  }
 },
 "nbformat": 4,
 "nbformat_minor": 2
}
