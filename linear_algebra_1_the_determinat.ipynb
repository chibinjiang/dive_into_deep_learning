{
 "cells": [
  {
   "cell_type": "markdown",
   "metadata": {},
   "source": [
    "### 行列式 \n",
    "1. "
   ]
  },
  {
   "cell_type": "code",
   "execution_count": 1,
   "metadata": {},
   "outputs": [],
   "source": [
    "from numpy.linalg import det"
   ]
  },
  {
   "cell_type": "code",
   "execution_count": 6,
   "metadata": {},
   "outputs": [
    {
     "name": "stdout",
     "output_type": "stream",
     "text": [
      "223.99999999999994 223.99999999999994 78.0\n"
     ]
    },
    {
     "data": {
      "text/plain": [
       "True"
      ]
     },
     "execution_count": 6,
     "metadata": {},
     "output_type": "execute_result"
    }
   ],
   "source": [
    "# 如果行列式中, 第i行的只有一个非零数a, 那么 D = a * 代数余子式\n",
    "a = [\n",
    "    [3, -1, 1, 2],\n",
    "    [-5, 1, 3, -4],\n",
    "    [4, 0, 0, 0],\n",
    "    [1, -5, 3, -3]\n",
    "]\n",
    "\n",
    "b = [\n",
    "    [99, -1, 1, 2],\n",
    "    [-5, 1, 3, -4],\n",
    "    [4, 0, 0, 0],\n",
    "    [1, -5, 3, -3]\n",
    "]\n",
    "\n",
    "c = [\n",
    "    [3, -1, 1, 2],\n",
    "    [-5, 1, 3, -4],\n",
    "    [1, 3, -2, 2],\n",
    "    [1, -5, 3, -3]    \n",
    "]\n",
    "print(det(a), det(b), det(c))\n",
    "det(a) == det(b)"
   ]
  },
  {
   "cell_type": "code",
   "execution_count": 7,
   "metadata": {},
   "outputs": [],
   "source": [
    "det?"
   ]
  },
  {
   "cell_type": "code",
   "execution_count": null,
   "metadata": {},
   "outputs": [],
   "source": []
  }
 ],
 "metadata": {
  "kernelspec": {
   "display_name": "Python 3",
   "language": "python",
   "name": "python3"
  },
  "language_info": {
   "codemirror_mode": {
    "name": "ipython",
    "version": 3
   },
   "file_extension": ".py",
   "mimetype": "text/x-python",
   "name": "python",
   "nbconvert_exporter": "python",
   "pygments_lexer": "ipython3",
   "version": "3.7.4"
  }
 },
 "nbformat": 4,
 "nbformat_minor": 2
}
